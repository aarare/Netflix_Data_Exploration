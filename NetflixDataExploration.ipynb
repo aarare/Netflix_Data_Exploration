{
 "cells": [
  {
   "cell_type": "code",
   "execution_count": 394,
   "id": "cd1885bc",
   "metadata": {
    "ExecuteTime": {
     "end_time": "2023-08-18T14:36:24.537120Z",
     "start_time": "2023-08-18T14:36:24.521248Z"
    }
   },
   "outputs": [],
   "source": [
    "import numpy as np\n",
    "import pandas as pd\n",
    "import seaborn as sns\n",
    "import matplotlib.pyplot as plt\n",
    "import missingno as msn"
   ]
  },
  {
   "cell_type": "raw",
   "id": "2e9f1246",
   "metadata": {
    "ExecuteTime": {
     "end_time": "2023-08-15T16:02:04.032264Z",
     "start_time": "2023-08-15T16:02:04.022223Z"
    }
   },
   "source": [
    "pd.options.display.max_rows=999\n",
    "pd.options.display.max_columns=999"
   ]
  },
  {
   "cell_type": "code",
   "execution_count": 245,
   "id": "38744fb5",
   "metadata": {
    "ExecuteTime": {
     "end_time": "2023-08-18T10:49:08.120702Z",
     "start_time": "2023-08-18T10:49:07.833454Z"
    }
   },
   "outputs": [],
   "source": [
    "df = pd.read_csv(\"netflix_titles.csv\")"
   ]
  },
  {
   "cell_type": "code",
   "execution_count": 5,
   "id": "76ec24c3",
   "metadata": {
    "ExecuteTime": {
     "end_time": "2023-08-13T09:19:34.366693Z",
     "start_time": "2023-08-13T09:19:34.323402Z"
    }
   },
   "outputs": [
    {
     "data": {
      "text/html": [
       "<div>\n",
       "<style scoped>\n",
       "    .dataframe tbody tr th:only-of-type {\n",
       "        vertical-align: middle;\n",
       "    }\n",
       "\n",
       "    .dataframe tbody tr th {\n",
       "        vertical-align: top;\n",
       "    }\n",
       "\n",
       "    .dataframe thead th {\n",
       "        text-align: right;\n",
       "    }\n",
       "</style>\n",
       "<table border=\"1\" class=\"dataframe\">\n",
       "  <thead>\n",
       "    <tr style=\"text-align: right;\">\n",
       "      <th></th>\n",
       "      <th>show_id</th>\n",
       "      <th>type</th>\n",
       "      <th>title</th>\n",
       "      <th>director</th>\n",
       "      <th>cast</th>\n",
       "      <th>country</th>\n",
       "      <th>date_added</th>\n",
       "      <th>release_year</th>\n",
       "      <th>rating</th>\n",
       "      <th>duration</th>\n",
       "      <th>listed_in</th>\n",
       "      <th>description</th>\n",
       "    </tr>\n",
       "  </thead>\n",
       "  <tbody>\n",
       "    <tr>\n",
       "      <th>0</th>\n",
       "      <td>s1</td>\n",
       "      <td>Movie</td>\n",
       "      <td>Dick Johnson Is Dead</td>\n",
       "      <td>Kirsten Johnson</td>\n",
       "      <td>NaN</td>\n",
       "      <td>United States</td>\n",
       "      <td>September 25, 2021</td>\n",
       "      <td>2020</td>\n",
       "      <td>PG-13</td>\n",
       "      <td>90 min</td>\n",
       "      <td>Documentaries</td>\n",
       "      <td>As her father nears the end of his life, filmm...</td>\n",
       "    </tr>\n",
       "    <tr>\n",
       "      <th>1</th>\n",
       "      <td>s2</td>\n",
       "      <td>TV Show</td>\n",
       "      <td>Blood &amp; Water</td>\n",
       "      <td>NaN</td>\n",
       "      <td>Ama Qamata, Khosi Ngema, Gail Mabalane, Thaban...</td>\n",
       "      <td>South Africa</td>\n",
       "      <td>September 24, 2021</td>\n",
       "      <td>2021</td>\n",
       "      <td>TV-MA</td>\n",
       "      <td>2 Seasons</td>\n",
       "      <td>International TV Shows, TV Dramas, TV Mysteries</td>\n",
       "      <td>After crossing paths at a party, a Cape Town t...</td>\n",
       "    </tr>\n",
       "    <tr>\n",
       "      <th>2</th>\n",
       "      <td>s3</td>\n",
       "      <td>TV Show</td>\n",
       "      <td>Ganglands</td>\n",
       "      <td>Julien Leclercq</td>\n",
       "      <td>Sami Bouajila, Tracy Gotoas, Samuel Jouy, Nabi...</td>\n",
       "      <td>NaN</td>\n",
       "      <td>September 24, 2021</td>\n",
       "      <td>2021</td>\n",
       "      <td>TV-MA</td>\n",
       "      <td>1 Season</td>\n",
       "      <td>Crime TV Shows, International TV Shows, TV Act...</td>\n",
       "      <td>To protect his family from a powerful drug lor...</td>\n",
       "    </tr>\n",
       "    <tr>\n",
       "      <th>3</th>\n",
       "      <td>s4</td>\n",
       "      <td>TV Show</td>\n",
       "      <td>Jailbirds New Orleans</td>\n",
       "      <td>NaN</td>\n",
       "      <td>NaN</td>\n",
       "      <td>NaN</td>\n",
       "      <td>September 24, 2021</td>\n",
       "      <td>2021</td>\n",
       "      <td>TV-MA</td>\n",
       "      <td>1 Season</td>\n",
       "      <td>Docuseries, Reality TV</td>\n",
       "      <td>Feuds, flirtations and toilet talk go down amo...</td>\n",
       "    </tr>\n",
       "    <tr>\n",
       "      <th>4</th>\n",
       "      <td>s5</td>\n",
       "      <td>TV Show</td>\n",
       "      <td>Kota Factory</td>\n",
       "      <td>NaN</td>\n",
       "      <td>Mayur More, Jitendra Kumar, Ranjan Raj, Alam K...</td>\n",
       "      <td>India</td>\n",
       "      <td>September 24, 2021</td>\n",
       "      <td>2021</td>\n",
       "      <td>TV-MA</td>\n",
       "      <td>2 Seasons</td>\n",
       "      <td>International TV Shows, Romantic TV Shows, TV ...</td>\n",
       "      <td>In a city of coaching centers known to train I...</td>\n",
       "    </tr>\n",
       "  </tbody>\n",
       "</table>\n",
       "</div>"
      ],
      "text/plain": [
       "  show_id     type                  title         director  \\\n",
       "0      s1    Movie   Dick Johnson Is Dead  Kirsten Johnson   \n",
       "1      s2  TV Show          Blood & Water              NaN   \n",
       "2      s3  TV Show              Ganglands  Julien Leclercq   \n",
       "3      s4  TV Show  Jailbirds New Orleans              NaN   \n",
       "4      s5  TV Show           Kota Factory              NaN   \n",
       "\n",
       "                                                cast        country  \\\n",
       "0                                                NaN  United States   \n",
       "1  Ama Qamata, Khosi Ngema, Gail Mabalane, Thaban...   South Africa   \n",
       "2  Sami Bouajila, Tracy Gotoas, Samuel Jouy, Nabi...            NaN   \n",
       "3                                                NaN            NaN   \n",
       "4  Mayur More, Jitendra Kumar, Ranjan Raj, Alam K...          India   \n",
       "\n",
       "           date_added  release_year rating   duration  \\\n",
       "0  September 25, 2021          2020  PG-13     90 min   \n",
       "1  September 24, 2021          2021  TV-MA  2 Seasons   \n",
       "2  September 24, 2021          2021  TV-MA   1 Season   \n",
       "3  September 24, 2021          2021  TV-MA   1 Season   \n",
       "4  September 24, 2021          2021  TV-MA  2 Seasons   \n",
       "\n",
       "                                           listed_in  \\\n",
       "0                                      Documentaries   \n",
       "1    International TV Shows, TV Dramas, TV Mysteries   \n",
       "2  Crime TV Shows, International TV Shows, TV Act...   \n",
       "3                             Docuseries, Reality TV   \n",
       "4  International TV Shows, Romantic TV Shows, TV ...   \n",
       "\n",
       "                                         description  \n",
       "0  As her father nears the end of his life, filmm...  \n",
       "1  After crossing paths at a party, a Cape Town t...  \n",
       "2  To protect his family from a powerful drug lor...  \n",
       "3  Feuds, flirtations and toilet talk go down amo...  \n",
       "4  In a city of coaching centers known to train I...  "
      ]
     },
     "execution_count": 5,
     "metadata": {},
     "output_type": "execute_result"
    }
   ],
   "source": [
    "df.head()"
   ]
  },
  {
   "cell_type": "code",
   "execution_count": 6,
   "id": "343d4a47",
   "metadata": {
    "ExecuteTime": {
     "end_time": "2023-08-13T09:24:56.652201Z",
     "start_time": "2023-08-13T09:24:56.559726Z"
    }
   },
   "outputs": [
    {
     "name": "stdout",
     "output_type": "stream",
     "text": [
      "<class 'pandas.core.frame.DataFrame'>\n",
      "RangeIndex: 8807 entries, 0 to 8806\n",
      "Data columns (total 12 columns):\n",
      " #   Column        Non-Null Count  Dtype \n",
      "---  ------        --------------  ----- \n",
      " 0   show_id       8807 non-null   object\n",
      " 1   type          8807 non-null   object\n",
      " 2   title         8807 non-null   object\n",
      " 3   director      6173 non-null   object\n",
      " 4   cast          7982 non-null   object\n",
      " 5   country       7976 non-null   object\n",
      " 6   date_added    8797 non-null   object\n",
      " 7   release_year  8807 non-null   int64 \n",
      " 8   rating        8803 non-null   object\n",
      " 9   duration      8804 non-null   object\n",
      " 10  listed_in     8807 non-null   object\n",
      " 11  description   8807 non-null   object\n",
      "dtypes: int64(1), object(11)\n",
      "memory usage: 825.8+ KB\n"
     ]
    }
   ],
   "source": [
    "df.info()"
   ]
  },
  {
   "cell_type": "code",
   "execution_count": 7,
   "id": "597c60a6",
   "metadata": {
    "ExecuteTime": {
     "end_time": "2023-08-13T09:25:35.911489Z",
     "start_time": "2023-08-13T09:25:35.901253Z"
    }
   },
   "outputs": [
    {
     "data": {
      "text/plain": [
       "Movie      6131\n",
       "TV Show    2676\n",
       "Name: type, dtype: int64"
      ]
     },
     "execution_count": 7,
     "metadata": {},
     "output_type": "execute_result"
    }
   ],
   "source": [
    "df.type.value_counts()"
   ]
  },
  {
   "cell_type": "code",
   "execution_count": 82,
   "id": "91d2d716",
   "metadata": {
    "ExecuteTime": {
     "end_time": "2023-08-14T18:34:40.485600Z",
     "start_time": "2023-08-14T18:34:40.465520Z"
    }
   },
   "outputs": [
    {
     "data": {
      "text/plain": [
       "TV-MA       3207\n",
       "TV-14       2160\n",
       "TV-PG        863\n",
       "R            799\n",
       "PG-13        490\n",
       "TV-Y7        334\n",
       "TV-Y         307\n",
       "PG           287\n",
       "TV-G         220\n",
       "NR            80\n",
       "G             41\n",
       "TV-Y7-FV       6\n",
       "NC-17          3\n",
       "UR             3\n",
       "74 min         1\n",
       "84 min         1\n",
       "66 min         1\n",
       "Name: rating, dtype: int64"
      ]
     },
     "execution_count": 82,
     "metadata": {},
     "output_type": "execute_result"
    }
   ],
   "source": [
    "df.rating.value_counts()"
   ]
  },
  {
   "cell_type": "code",
   "execution_count": 83,
   "id": "dde56379",
   "metadata": {
    "ExecuteTime": {
     "end_time": "2023-08-14T18:34:43.507384Z",
     "start_time": "2023-08-14T18:34:43.349367Z"
    }
   },
   "outputs": [
    {
     "data": {
      "text/plain": [
       "(0.0, 3300.0)"
      ]
     },
     "execution_count": 83,
     "metadata": {},
     "output_type": "execute_result"
    },
    {
     "data": {
      "image/png": "[encoded data removed]",
      "text/plain": [
       "<Figure size 432x288 with 1 Axes>"
      ]
     },
     "metadata": {
      "needs_background": "light"
     },
     "output_type": "display_data"
    }
   ],
   "source": [
    "fig, ax = plt.subplots()\n",
    "sns.countplot(x=df.rating, order=df.rating.value_counts().index)\n",
    "ax.set_xlim(-1,15)\n",
    "ax.set_ylim(0,3300)"
   ]
  },
  {
   "cell_type": "code",
   "execution_count": 246,
   "id": "7a2a15ed",
   "metadata": {
    "ExecuteTime": {
     "end_time": "2023-08-18T10:49:17.313059Z",
     "start_time": "2023-08-18T10:49:17.283759Z"
    }
   },
   "outputs": [],
   "source": [
    "fq = df['rating'].value_counts(normalize=True)\n",
    "mapping = df['rating'].map(fq)\n",
    "df[\"rating_new\"] = df['rating'].mask(mapping < 0.01, \"Other\")"
   ]
  },
  {
   "cell_type": "code",
   "execution_count": 368,
   "id": "261964ae",
   "metadata": {
    "ExecuteTime": {
     "end_time": "2023-08-18T12:43:35.372586Z",
     "start_time": "2023-08-18T12:43:35.360606Z"
    }
   },
   "outputs": [
    {
     "data": {
      "text/plain": [
       "TV-MA    3207\n",
       "TV-14    2160\n",
       "TV-PG     863\n",
       "R         799\n",
       "PG-13     490\n",
       "TV-Y7     334\n",
       "TV-Y      307\n",
       "PG        287\n",
       "TV-G      220\n",
       "Other     136\n",
       "Name: rating_new, dtype: int64"
      ]
     },
     "execution_count": 368,
     "metadata": {},
     "output_type": "execute_result"
    }
   ],
   "source": [
    "df['rating_new'].value_counts()\n",
    "\n",
    "#sadece yetişkinler TV-MA\n",
    "#14 yaş üstü uygun TV-14\n",
    "#7 yaş üstü uygun TV-PG\n",
    "#18 yaş üstü uygun R \n",
    "#13 yaş üstü uygun PG-13\n",
    "#7 yaş üstü uygun TV-Y7\n",
    "#tüm çocuklar için uygun TV-Y\n",
    "#7 yaş üstü uygun PG\n",
    "#tüm çocuklar için uygun TV-G"
   ]
  },
  {
   "cell_type": "code",
   "execution_count": 90,
   "id": "b94f7030",
   "metadata": {
    "ExecuteTime": {
     "end_time": "2023-08-14T18:37:13.039557Z",
     "start_time": "2023-08-14T18:37:12.919972Z"
    }
   },
   "outputs": [
    {
     "data": {
      "text/plain": [
       "<AxesSubplot:xlabel='rating_new', ylabel='count'>"
      ]
     },
     "execution_count": 90,
     "metadata": {},
     "output_type": "execute_result"
    },
    {
     "data": {
      "image/png": "[encoded data removed]",
      "text/plain": [
       "<Figure size 432x288 with 1 Axes>"
      ]
     },
     "metadata": {
      "needs_background": "light"
     },
     "output_type": "display_data"
    }
   ],
   "source": [
    "sns.countplot(x=df['rating_new'], order=df.rating_new.value_counts().index)"
   ]
  },
  {
   "cell_type": "code",
   "execution_count": 385,
   "id": "a6e886f6",
   "metadata": {
    "ExecuteTime": {
     "end_time": "2023-08-18T13:43:21.526608Z",
     "start_time": "2023-08-18T13:43:21.506772Z"
    }
   },
   "outputs": [
    {
     "data": {
      "text/plain": [
       "United States                                                                                                                  2818\n",
       "India                                                                                                                           972\n",
       "United Kingdom                                                                                                                  419\n",
       "Japan                                                                                                                           245\n",
       "South Korea                                                                                                                     199\n",
       "Canada                                                                                                                          181\n",
       "Spain                                                                                                                           145\n",
       "France                                                                                                                          124\n",
       "Mexico                                                                                                                          110\n",
       "Egypt                                                                                                                           106\n",
       "Turkey                                                                                                                          105\n",
       "Nigeria                                                                                                                          95\n",
       "Australia                                                                                                                        87\n",
       "Taiwan                                                                                                                           81\n",
       "Indonesia                                                                                                                        79\n",
       "Brazil                                                                                                                           77\n",
       "Philippines                                                                                                                      75\n",
       "United Kingdom, United States                                                                                                    75\n",
       "United States, Canada                                                                                                            73\n",
       "Germany                                                                                                                          67\n",
       "China                                                                                                                            66\n",
       "Thailand                                                                                                                         61\n",
       "Argentina                                                                                                                        56\n",
       "Hong Kong                                                                                                                        53\n",
       "United States, United Kingdom                                                                                                    47\n",
       "Italy                                                                                                                            45\n",
       "Canada, United States                                                                                                            45\n",
       "Colombia                                                                                                                         35\n",
       "South Africa                                                                                                                     30\n",
       "France, Belgium                                                                                                                  27\n",
       "Poland                                                                                                                           24\n",
       "Singapore                                                                                                                        23\n",
       "Malaysia                                                                                                                         22\n",
       "Netherlands                                                                                                                      19\n",
       "Pakistan                                                                                                                         18\n",
       "United States, Germany                                                                                                           17\n",
       "United States, Japan                                                                                                             16\n",
       "United States, France                                                                                                            16\n",
       "Hong Kong, China                                                                                                                 16\n",
       "Lebanon                                                                                                                          15\n",
       "Russia                                                                                                                           15\n",
       "Chile                                                                                                                            14\n",
       "United Arab Emirates                                                                                                             14\n",
       "China, Hong Kong                                                                                                                 14\n",
       "United States, Mexico                                                                                                            14\n",
       "Denmark                                                                                                                          13\n",
       "Australia, United States                                                                                                         13\n",
       "Mexico, United States                                                                                                            13\n",
       "Sweden                                                                                                                           13\n",
       "Germany, United States                                                                                                           13\n",
       "Israel                                                                                                                           13\n",
       "New Zealand                                                                                                                      12\n",
       "Japan, United States                                                                                                             12\n",
       "United States, Australia                                                                                                         11\n",
       "Norway                                                                                                                           11\n",
       "France, United States                                                                                                            10\n",
       "India, United States                                                                                                             10\n",
       "Ireland                                                                                                                          10\n",
       "United States, India                                                                                                              9\n",
       "Belgium                                                                                                                           9\n",
       "Argentina, Spain                                                                                                                  8\n",
       "United Kingdom, Canada, United States                                                                                             8\n",
       "United States, China                                                                                                              8\n",
       "Saudi Arabia                                                                                                                      8\n",
       "Vietnam                                                                                                                           7\n",
       "United States, France, Japan                                                                                                      7\n",
       "United Kingdom, France                                                                                                            6\n",
       "Romania                                                                                                                           6\n",
       "Kuwait                                                                                                                            6\n",
       "South Korea, United States                                                                                                        6\n",
       "United States, Czech Republic                                                                                                     5\n",
       "Italy, France                                                                                                                     5\n",
       "United States, New Zealand                                                                                                        5\n",
       "Spain, France                                                                                                                     5\n",
       "Austria                                                                                                                           5\n",
       "United States, Italy                                                                                                              5\n",
       "India, France                                                                                                                     5\n",
       "Israel, United States                                                                                                             5\n",
       "Iceland                                                                                                                           5\n",
       "South Africa, United States                                                                                                       4\n",
       "United Kingdom, France, United States                                                                                             4\n",
       "United States, Russia                                                                                                             4\n",
       "Italy, United States                                                                                                              4\n",
       "United Kingdom, United States, Spain, Germany, Greece, Canada                                                                     4\n",
       "United States, United Kingdom, France                                                                                             4\n",
       "Peru                                                                                                                              4\n",
       "United States, Spain                                                                                                              4\n",
       "Poland, United States                                                                                                             4\n",
       "United States, Bulgaria                                                                                                           4\n",
       "Canada, United States, United Kingdom                                                                                             4\n",
       "Hungary                                                                                                                           4\n",
       "Mexico, Spain                                                                                                                     4\n",
       "Hong Kong, United States                                                                                                          4\n",
       "United States, United Kingdom, Australia                                                                                          4\n",
       "United Kingdom, Canada                                                                                                            4\n",
       "United Kingdom, Germany                                                                                                           4\n",
       "Spain, Germany                                                                                                                    3\n",
       "United States, Sweden                                                                                                             3\n",
       "Sweden, United States                                                                                                             3\n",
       "United Kingdom, Japan, United States                                                                                              3\n",
       "United States, Chile                                                                                                              3\n",
       "Denmark, United States                                                                                                            3\n",
       "France, Egypt                                                                                                                     3\n",
       "China, United Kingdom                                                                                                             3\n",
       "Uruguay                                                                                                                           3\n",
       "United States, South Africa                                                                                                       3\n",
       "United States, Hong Kong                                                                                                          3\n",
       "United Kingdom, Ireland                                                                                                           3\n",
       "Ghana                                                                                                                             3\n",
       "Kenya                                                                                                                             3\n",
       "Spain, Argentina                                                                                                                  3\n",
       "Belgium, France                                                                                                                   3\n",
       "United States, Colombia                                                                                                           3\n",
       "United Kingdom, United States, Australia                                                                                          3\n",
       "Bangladesh                                                                                                                        3\n",
       "France, Canada                                                                                                                    3\n",
       "China, Canada, United States                                                                                                      3\n",
       "Bulgaria, United States                                                                                                           3\n",
       "United States, United Arab Emirates                                                                                               3\n",
       "United States, Ireland                                                                                                            3\n",
       "United States, Germany, Canada                                                                                                    3\n",
       "Ireland, United Kingdom, United States                                                                                            2\n",
       "New Zealand, United States                                                                                                        2\n",
       "United States, Greece                                                                                                             2\n",
       "United States, Nigeria                                                                                                            2\n",
       "Singapore, United States                                                                                                          2\n",
       "Canada, United Kingdom, United States                                                                                             2\n",
       "Ukraine                                                                                                                           2\n",
       "Argentina, Chile                                                                                                                  2\n",
       "Turkey, United States                                                                                                             2\n",
       "United States, South Korea                                                                                                        2\n",
       "Netherlands, Belgium                                                                                                              2\n",
       "United States, Thailand                                                                                                           2\n",
       "Portugal, Spain                                                                                                                   2\n",
       "Brazil, France                                                                                                                    2\n",
       "Canada, United States, France                                                                                                     2\n",
       "United Kingdom, Belgium                                                                                                           2\n",
       "France, Japan, United States                                                                                                      2\n",
       "Belgium, Netherlands                                                                                                              2\n",
       "Czech Republic, United States                                                                                                     2\n",
       "United States, Argentina                                                                                                          2\n",
       "Australia, United Arab Emirates                                                                                                   2\n",
       "Canada, United Kingdom                                                                                                            2\n",
       "Switzerland                                                                                                                       2\n",
       "China, United States                                                                                                              2\n",
       "Australia, Canada                                                                                                                 2\n",
       "United States, Japan, Canada                                                                                                      2\n",
       "Serbia, United States                                                                                                             2\n",
       "Canada, India                                                                                                                     2\n",
       "United States, United Kingdom, Germany                                                                                            2\n",
       "Canada, Australia                                                                                                                 2\n",
       "Lebanon, Canada, France                                                                                                           2\n",
       "Pakistan, United States                                                                                                           2\n",
       "Thailand, United States                                                                                                           2\n",
       "Ireland, United Kingdom                                                                                                           2\n",
       "Spain, United Kingdom                                                                                                             2\n",
       "Spain, Italy                                                                                                                      2\n",
       "United Kingdom, Italy                                                                                                             2\n",
       "France, United Kingdom, United States                                                                                             2\n",
       "Indonesia, Singapore                                                                                                              2\n",
       "India, Soviet Union                                                                                                               2\n",
       "Hong Kong, China, United States                                                                                                   2\n",
       "Jordan                                                                                                                            2\n",
       "United States, China, Hong Kong                                                                                                   2\n",
       "United Kingdom, India                                                                                                             2\n",
       "Egypt, France                                                                                                                     2\n",
       "India, United Kingdom                                                                                                             2\n",
       "Germany, United Kingdom                                                                                                           2\n",
       "United Kingdom, Germany, United States                                                                                            2\n",
       "Germany, Czech Republic                                                                                                           2\n",
       "China, Taiwan                                                                                                                     2\n",
       "United Arab Emirates, United States                                                                                               2\n",
       "United Kingdom, Nigeria                                                                                                           2\n",
       "Colombia, Mexico, United States                                                                                                   2\n",
       "United States, South Korea, China                                                                                                 2\n",
       "Canada, South Africa                                                                                                              2\n",
       "Australia, United Kingdom                                                                                                         2\n",
       "Spain, Mexico                                                                                                                     2\n",
       "Norway, Iceland, United States                                                                                                    2\n",
       "United Kingdom,                                                                                                                   2\n",
       "United Kingdom, United States, France                                                                                             2\n",
       "United Kingdom, France, Germany, United States                                                                                    2\n",
       "India, Germany                                                                                                                    2\n",
       "United Kingdom, India, United States                                                                                              2\n",
       "United States, United Kingdom, Canada                                                                                             2\n",
       "Pakistan, Norway, United States                                                                                                   1\n",
       "France, Germany, Switzerland                                                                                                      1\n",
       "United States, United Kingdom, Denmark, Sweden                                                                                    1\n",
       "United States, Canada, Belgium, United Kingdom                                                                                    1\n",
       "Germany, United States, Hong Kong, Singapore                                                                                      1\n",
       "Germany, Australia                                                                                                                1\n",
       "Spain, France, Italy                                                                                                              1\n",
       "Germany, France, Luxembourg, United Kingdom, United States                                                                        1\n",
       "Venezuela                                                                                                                         1\n",
       "Taiwan, Hong Kong, United States, China                                                                                           1\n",
       "Germany, Belgium                                                                                                                  1\n",
       "Canada, Spain, France                                                                                                             1\n",
       "United States, Indonesia                                                                                                          1\n",
       "Czech Republic, France                                                                                                            1\n",
       "United Kingdom, Canada, Italy                                                                                                     1\n",
       "United States, France, Mexico                                                                                                     1\n",
       "France, China, Japan, United States                                                                                               1\n",
       "United Kingdom, Czech Republic, Germany, United States                                                                            1\n",
       "United States, Nicaragua                                                                                                          1\n",
       "United States, Italy, United Kingdom, Liechtenstein                                                                               1\n",
       "Denmark, France, Belgium, Italy, Netherlands, United States, United Kingdom                                                       1\n",
       "United States, Australia, Mexico                                                                                                  1\n",
       "Canada, France, Italy, Morocco, United States                                                                                     1\n",
       "Italy, Canada, France                                                                                                             1\n",
       "United Kingdom, Denmark, Canada, Croatia                                                                                          1\n",
       "South Africa, United States, New Zealand, Canada                                                                                  1\n",
       "Italy, Germany                                                                                                                    1\n",
       "Finland, Sweden, Norway, Latvia, Germany                                                                                          1\n",
       "Turkey, France, Germany, Poland                                                                                                   1\n",
       "United States, Brazil                                                                                                             1\n",
       "United States, France, United Kingdom, Japan                                                                                      1\n",
       "Brazil, France, Germany                                                                                                           1\n",
       "Spain, Cuba                                                                                                                       1\n",
       "United Kingdom, South Africa                                                                                                      1\n",
       "Denmark, Zimbabwe                                                                                                                 1\n",
       "United Kingdom, Israel, Russia                                                                                                    1\n",
       "United Arab Emirates, United States, United Kingdom                                                                               1\n",
       "Greece, United States                                                                                                             1\n",
       "United Kingdom, Poland, United States                                                                                             1\n",
       "Singapore, France                                                                                                                 1\n",
       "United States, Canada, France                                                                                                     1\n",
       "Argentina, Uruguay, Spain, France                                                                                                 1\n",
       "United States, Hungary                                                                                                            1\n",
       "United Kingdom, Italy, Israel, Peru, United States                                                                                1\n",
       "France, Germany                                                                                                                   1\n",
       "France, Qatar                                                                                                                     1\n",
       "United Kingdom, Germany, Canada                                                                                                   1\n",
       "Ireland, South Africa                                                                                                             1\n",
       "United States, Colombia, Mexico                                                                                                   1\n",
       "Chile, United States, France                                                                                                      1\n",
       "Belgium, France, Netherlands                                                                                                      1\n",
       "United Kingdom, Ukraine, United States                                                                                            1\n",
       "Germany, Australia, France, China                                                                                                 1\n",
       "United States, Denmark                                                                                                            1\n",
       "Norway, United States                                                                                                             1\n",
       "United States, Bermuda, Ecuador                                                                                                   1\n",
       "United States, Hungary, Ireland, Canada                                                                                           1\n",
       "Canada, Japan, Netherlands                                                                                                        1\n",
       "United Kingdom, France, United States, Belgium                                                                                    1\n",
       "United States, France, United Kingdom                                                                                             1\n",
       "France, Canada, China, Cambodia                                                                                                   1\n",
       "France, United Kingdom, India                                                                                                     1\n",
       "Netherlands, United States                                                                                                        1\n",
       "Spain, Switzerland                                                                                                                1\n",
       "United States, Australia, China                                                                                                   1\n",
       "South Africa, United States, Germany                                                                                              1\n",
       "Spain, Italy, Argentina                                                                                                           1\n",
       "Chile, Spain, Argentina, Germany                                                                                                  1\n",
       "Chile, France                                                                                                                     1\n",
       "West Germany                                                                                                                      1\n",
       "Austria, Czech Republic                                                                                                           1\n",
       "Lebanon, Qatar                                                                                                                    1\n",
       "United Kingdom, France, Belgium, United States                                                                                    1\n",
       "United Kingdom, Jordan, Qatar, Iran                                                                                               1\n",
       "France, South Korea, Japan                                                                                                        1\n",
       "Israel, Germany, France                                                                                                           1\n",
       "United Kingdom, Egypt, United States                                                                                              1\n",
       "Spain, Mexico, France                                                                                                             1\n",
       "United States, India, Bangladesh                                                                                                  1\n",
       "France, United States, Mexico                                                                                                     1\n",
       "Australia, Armenia, Japan, Jordan, Mexico, Mongolia, New Zealand, Philippines, South Africa, Sweden, United States, Uruguay       1\n",
       "India, Iran                                                                                                                       1\n",
       "Norway, Germany                                                                                                                   1\n",
       "France, Belgium, Spain                                                                                                            1\n",
       "Denmark, Sweden, Israel, United States                                                                                            1\n",
       "United States, Iceland                                                                                                            1\n",
       "United Kingdom, Russia                                                                                                            1\n",
       "United States, Israel, Italy, South Africa                                                                                        1\n",
       "Netherlands, Denmark, France, Germany                                                                                             1\n",
       "South Korea, Japan                                                                                                                1\n",
       "United Kingdom, Pakistan                                                                                                          1\n",
       "France, New Zealand                                                                                                               1\n",
       "United Kingdom, Czech Republic, United States, Germany, Bahamas                                                                   1\n",
       "China, Germany, India, United States                                                                                              1\n",
       "Germany, Sri Lanka                                                                                                                1\n",
       "Australia, United Kingdom, United Arab Emirates, Canada                                                                           1\n",
       "Sweden, Netherlands                                                                                                               1\n",
       "Hong Kong, China, Singapore                                                                                                       1\n",
       "France, Morocco                                                                                                                   1\n",
       "United States, United Kingdom, Italy                                                                                              1\n",
       "Denmark, France, Poland                                                                                                           1\n",
       "New Zealand, United Kingdom                                                                                                       1\n",
       "Netherlands, Denmark, South Africa                                                                                                1\n",
       "Iran, France                                                                                                                      1\n",
       "United Kingdom, United States, France, Germany                                                                                    1\n",
       "Australia, France                                                                                                                 1\n",
       "United Kingdom, France, Germany                                                                                                   1\n",
       "Canada, Luxembourg                                                                                                                1\n",
       "Brazil, Netherlands, United States, Colombia, Austria, Germany                                                                    1\n",
       "France, Canada, Belgium                                                                                                           1\n",
       "Cambodia, United States                                                                                                           1\n",
       "Canada, France                                                                                                                    1\n",
       "Bulgaria, United States, Spain, Canada                                                                                            1\n",
       "Czech Republic, Slovakia                                                                                                          1\n",
       "South Africa, China, United States                                                                                                1\n",
       "Brazil, India, China, United States                                                                                               1\n",
       "United States, France, Canada, Spain                                                                                              1\n",
       "Israel, Germany, Poland, Luxembourg, Belgium, France, United States                                                               1\n",
       "Spain, France, Uruguay                                                                                                            1\n",
       "France, Canada, United States                                                                                                     1\n",
       "United States, Canada, China                                                                                                      1\n",
       "Ireland, Canada, Luxembourg, United States, United Kingdom, Philippines, India                                                    1\n",
       "United States, Czech Republic, United Kingdom                                                                                     1\n",
       "Israel, Germany                                                                                                                   1\n",
       "Mexico, France                                                                                                                    1\n",
       "Austria, United States                                                                                                            1\n",
       "United States, New Zealand, United Kingdom                                                                                        1\n",
       "United Kingdom, Lithuania                                                                                                         1\n",
       "United States, Greece, United Kingdom                                                                                             1\n",
       "United Kingdom, China, United States, India                                                                                       1\n",
       "United States, Sweden, Norway                                                                                                     1\n",
       "United Kingdom, United States, Morocco                                                                                            1\n",
       "United States, United Kingdom, Morocco                                                                                            1\n",
       "Spain, Canada, United States                                                                                                      1\n",
       "Finland, United States                                                                                                            1\n",
       "United States, Germany, United Kingdom, Italy                                                                                     1\n",
       "Guatemala                                                                                                                         1\n",
       "Czech Republic, United Kingdom, France                                                                                            1\n",
       "United States, Germany, United Kingdom, Australia                                                                                 1\n",
       "Italy, France, Switzerland                                                                                                        1\n",
       "Canada, France, United States                                                                                                     1\n",
       "Switzerland, United States                                                                                                        1\n",
       "Thailand, Canada, United States                                                                                                   1\n",
       "China, Hong Kong, United States                                                                                                   1\n",
       "United Kingdom, New Zealand                                                                                                       1\n",
       "Australia, United Kingdom, Canada                                                                                                 1\n",
       "United States, Germany, United Kingdom                                                                                            1\n",
       "Jamaica, United States                                                                                                            1\n",
       "Australia, United Kingdom, United States, New Zealand, Italy, France                                                              1\n",
       "France, United States, Canada                                                                                                     1\n",
       "United Kingdom, France, Canada, Belgium, United States                                                                            1\n",
       "Denmark, United Kingdom, Sweden                                                                                                   1\n",
       "United States, Kazakhstan                                                                                                         1\n",
       "Argentina, France, United States, Germany, Qatar                                                                                  1\n",
       "United States, India, United Arab Emirates                                                                                        1\n",
       "United Kingdom, Canada, France, United States                                                                                     1\n",
       "India, Germany, France                                                                                                            1\n",
       "Germany, United States, United Kingdom, Canada                                                                                    1\n",
       "United Kingdom, Brazil, Germany                                                                                                   1\n",
       "United Kingdom, Namibia, South Africa, Zimbabwe, United States                                                                    1\n",
       "Canada, United States, India, United Kingdom                                                                                      1\n",
       "Switzerland, United Kingdom, United States                                                                                        1\n",
       "United Kingdom, India, Sweden                                                                                                     1\n",
       "United States, Brazil, India, Uganda, China                                                                                       1\n",
       "Peru, United States, United Kingdom                                                                                               1\n",
       "Canada, India, Thailand, United States, United Arab Emirates                                                                      1\n",
       "Belgium, Ireland, Netherlands, Germany, Afghanistan                                                                               1\n",
       "United States, East Germany, West Germany                                                                                         1\n",
       "France, Netherlands, South Africa, Finland                                                                                        1\n",
       "Egypt, Austria, United States                                                                                                     1\n",
       "Russia, Spain                                                                                                                     1\n",
       "Croatia, Slovenia, Serbia, Montenegro                                                                                             1\n",
       "Japan, Canada                                                                                                                     1\n",
       "United States, France, South Korea, Indonesia                                                                                     1\n",
       "United Kingdom, China, United States                                                                                              1\n",
       "United Kingdom, United States, Czech Republic                                                                                     1\n",
       "United Kingdom, Canada, Japan                                                                                                     1\n",
       "United States, Venezuela                                                                                                          1\n",
       "France, Canada, Italy, United States, China                                                                                       1\n",
       "Ireland, United Kingdom, Greece, France, Netherlands                                                                              1\n",
       "Denmark, Indonesia, Finland, Norway, United Kingdom, Israel, France, United States, Germany, Netherlands                          1\n",
       "United States, Australia, South Africa, United Kingdom                                                                            1\n",
       "United States, Germany, Mexico                                                                                                    1\n",
       "Somalia, Kenya, Sudan, South Africa, United States                                                                                1\n",
       "United States, Canada, Japan, Panama                                                                                              1\n",
       "United Kingdom, Spain, Belgium                                                                                                    1\n",
       "Serbia, South Korea, Slovenia                                                                                                     1\n",
       "Denmark, United Kingdom, South Africa, Sweden, Belgium                                                                            1\n",
       "Germany, Canada, United States                                                                                                    1\n",
       "Ireland, Canada, United States, United Kingdom                                                                                    1\n",
       "New Zealand, United Kingdom, Australia                                                                                            1\n",
       "United Kingdom, Australia, Canada, United States                                                                                  1\n",
       "Germany, United States, Italy                                                                                                     1\n",
       "Italy, South Africa, West Germany, Australia, United States                                                                       1\n",
       "United States, United Kingdom, Spain, South Korea                                                                                 1\n",
       "Russia, United States, China                                                                                                      1\n",
       "Denmark, China                                                                                                                    1\n",
       "Netherlands, Belgium, United Kingdom, United States                                                                               1\n",
       "France, Belgium, China, United States                                                                                             1\n",
       "United States, Chile, Israel                                                                                                      1\n",
       "United Kingdom, Norway, Denmark, Germany, Sweden                                                                                  1\n",
       "Norway, Denmark, Sweden                                                                                                           1\n",
       "China, India, Nepal                                                                                                               1\n",
       "United Kingdom, South Korea                                                                                                       1\n",
       "United States, Greece, Brazil                                                                                                     1\n",
       "United Kingdom, Germany, Canada, United States                                                                                    1\n",
       "South Korea, France                                                                                                               1\n",
       "United States, Australia, Samoa, United Kingdom                                                                                   1\n",
       "Argentina, Chile, Peru                                                                                                            1\n",
       "Turkey, Azerbaijan                                                                                                                1\n",
       "Poland, West Germany                                                                                                              1\n",
       "Germany, United States, Sweden                                                                                                    1\n",
       "Canada, Spain                                                                                                                     1\n",
       "United States, France, Canada, Lebanon, Qatar                                                                                     1\n",
       "Germany, United States, Canada                                                                                                    1\n",
       "Hong Kong, Taiwan                                                                                                                 1\n",
       "India, Japan                                                                                                                      1\n",
       "United States, Canada, Germany                                                                                                    1\n",
       "Ireland, United States                                                                                                            1\n",
       "Ireland, United Kingdom, Italy, United States                                                                                     1\n",
       "Poland,                                                                                                                           1\n",
       "Slovenia, Croatia, Germany, Czech Republic, Qatar                                                                                 1\n",
       "Canada, United Kingdom, Netherlands                                                                                               1\n",
       "United States, Spain, Germany                                                                                                     1\n",
       "China, South Korea, United States                                                                                                 1\n",
       "Ireland, United States, France                                                                                                    1\n",
       "United Kingdom, France, Belgium                                                                                                   1\n",
       "Canada, Ireland, United States                                                                                                    1\n",
       "United Kingdom, United States, Dominican Republic                                                                                 1\n",
       "United States, Senegal                                                                                                            1\n",
       "Germany, United Kingdom, United States                                                                                            1\n",
       "South Africa, Germany, Netherlands, France                                                                                        1\n",
       "Canada, United States, United Kingdom, France, Luxembourg                                                                         1\n",
       "United States, Cambodia                                                                                                           1\n",
       "Norway, United Kingdom, France, Ireland                                                                                           1\n",
       "United Kingdom, Poland                                                                                                            1\n",
       "Germany, France, United States, Canada, United Kingdom                                                                            1\n",
       "United States, New Zealand, Japan                                                                                                 1\n",
       "United States, Netherlands, Japan, France                                                                                         1\n",
       "India, Switzerland                                                                                                                1\n",
       "United States, Morocco                                                                                                            1\n",
       "Singapore, Japan, France                                                                                                          1\n",
       "Canada, Mexico, Germany, South Africa                                                                                             1\n",
       "United Kingdom, United States, Canada                                                                                             1\n",
       "United States, Uruguay                                                                                                            1\n",
       "Israel, Sweden, Germany, Netherlands                                                                                              1\n",
       "India, Canada                                                                                                                     1\n",
       "Ireland, Canada, United Kingdom, United States                                                                                    1\n",
       "United States, Germany, Australia                                                                                                 1\n",
       "Australia, France, Ireland                                                                                                        1\n",
       "Australia, India                                                                                                                  1\n",
       "United States, United Kingdom, Canada, Japan                                                                                      1\n",
       "Sweden, United Kingdom, Finland                                                                                                   1\n",
       "Portugal, France, Poland, United States                                                                                           1\n",
       "Switzerland, Vatican City, Italy, Germany, France                                                                                 1\n",
       "France, Germany, Czech Republic, Belgium                                                                                          1\n",
       "Colombia, United States                                                                                                           1\n",
       "Switzerland, France                                                                                                               1\n",
       "Italy, India                                                                                                                      1\n",
       "United States, Botswana                                                                                                           1\n",
       "Chile, Argentina, France, Spain, United States                                                                                    1\n",
       "United States, India, South Korea, China                                                                                          1\n",
       "Denmark, Germany, Belgium, United Kingdom, France                                                                                 1\n",
       "Denmark, Germany, Belgium, United Kingdom, France, Sweden                                                                         1\n",
       "France, Switzerland, Spain, United States, United Arab Emirates                                                                   1\n",
       "India, Malaysia                                                                                                                   1\n",
       "Denmark, France, United States, Sweden                                                                                            1\n",
       "Australia, Iraq                                                                                                                   1\n",
       "China, Morocco, Hong Kong                                                                                                         1\n",
       "Canada, United States, Germany                                                                                                    1\n",
       "United Kingdom, Thailand                                                                                                          1\n",
       "Venezuela, Colombia                                                                                                               1\n",
       "Germany, Jordan, Netherlands                                                                                                      1\n",
       "United Kingdom, Belgium, Sweden                                                                                                   1\n",
       "United Arab Emirates, Romania                                                                                                     1\n",
       "Saudi Arabia, United Arab Emirates                                                                                                1\n",
       "Canada, United States, Ireland                                                                                                    1\n",
       "Japan, Canada, United States                                                                                                      1\n",
       "Spain, France, Canada                                                                                                             1\n",
       "Denmark, Singapore, Canada, United States                                                                                         1\n",
       "United States, France, Denmark                                                                                                    1\n",
       "United States, China, Colombia                                                                                                    1\n",
       "Spain, Thailand, United States                                                                                                    1\n",
       "Ireland, Luxembourg, Belgium                                                                                                      1\n",
       "Canada, Belgium                                                                                                                   1\n",
       "Lebanon, United Arab Emirates, France, Switzerland, Germany                                                                       1\n",
       "France, Belgium, Italy                                                                                                            1\n",
       "Lebanon, United States, United Arab Emirates                                                                                      1\n",
       "Lebanon, France                                                                                                                   1\n",
       "France, Lebanon                                                                                                                   1\n",
       "France, Lebanon, United Kingdom                                                                                                   1\n",
       "United States, China, Canada                                                                                                      1\n",
       "United States, Malta, France, United Kingdom                                                                                      1\n",
       "United Kingdom, Singapore                                                                                                         1\n",
       "Canada, Hungary, United States                                                                                                    1\n",
       "United States, Cambodia, Romania                                                                                                  1\n",
       "Spain, Belgium, United States                                                                                                     1\n",
       "Portugal, United States                                                                                                           1\n",
       "United Kingdom, Spain, United States                                                                                              1\n",
       "Hungary, United States                                                                                                            1\n",
       "Canada, United States, Cayman Islands                                                                                             1\n",
       "United Kingdom, Germany, France, United States                                                                                    1\n",
       "United States, Ireland, United Kingdom, India                                                                                     1\n",
       "Senegal                                                                                                                           1\n",
       "France, Algeria                                                                                                                   1\n",
       "United Kingdom, Finland, Germany, United States, Australia, Japan, France, Ireland                                                1\n",
       "Philippines, Canada, United Kingdom, United States                                                                                1\n",
       "Ireland, France, Iceland, United States, Mexico, Belgium, United Kingdom, Hong Kong                                               1\n",
       "United States, France, Serbia                                                                                                     1\n",
       "France, Norway, Lebanon, Belgium                                                                                                  1\n",
       "Sweden, Czech Republic, United Kingdom, Denmark, Netherlands                                                                      1\n",
       "United States, United Kingdom, India                                                                                              1\n",
       "Spain, France, Canada, United States                                                                                              1\n",
       "China, Spain, South Korea, United States                                                                                          1\n",
       "France, Belgium, Luxembourg, Cambodia,                                                                                            1\n",
       "United Kingdom, Australia                                                                                                         1\n",
       "Belarus                                                                                                                           1\n",
       "Indonesia, United Kingdom                                                                                                         1\n",
       "Switzerland, France, Belgium, United States                                                                                       1\n",
       "Chile, Italy                                                                                                                      1\n",
       "Peru, Germany, Norway                                                                                                             1\n",
       "France, Brazil, Spain, Belgium                                                                                                    1\n",
       "Egypt, Algeria                                                                                                                    1\n",
       "Canada, South Korea, United States                                                                                                1\n",
       "Nigeria, United Kingdom                                                                                                           1\n",
       "United States, France, Canada                                                                                                     1\n",
       "United Arab Emirates, Jordan, Lebanon, Saudi Arabia                                                                               1\n",
       "Mozambique                                                                                                                        1\n",
       "United States, Canada, United Kingdom                                                                                             1\n",
       "Indonesia, Netherlands                                                                                                            1\n",
       "United Kingdom, China                                                                                                             1\n",
       "Turkey, South Korea                                                                                                               1\n",
       "Namibia                                                                                                                           1\n",
       "United Kingdom, Kenya                                                                                                             1\n",
       "United Kingdom, France, Germany, Spain                                                                                            1\n",
       "United Kingdom, France, United States, Belgium, Luxembourg, China, Germany                                                        1\n",
       "United States, France, Canada, Belgium                                                                                            1\n",
       "Germany, China, United Kingdom                                                                                                    1\n",
       "United States, United Kingdom, Canada, China                                                                                      1\n",
       "Australia, New Zealand, United States                                                                                             1\n",
       "Hong Kong, Iceland, United States                                                                                                 1\n",
       "France, Australia, Germany                                                                                                        1\n",
       "United States, Belgium, Canada, France                                                                                            1\n",
       "South Africa, Angola                                                                                                              1\n",
       "United States, Philippines                                                                                                        1\n",
       "Luxembourg                                                                                                                        1\n",
       "Chile, Brazil                                                                                                                     1\n",
       "India, United Kingdom, France, Qatar                                                                                              1\n",
       "Kuwait, United States                                                                                                             1\n",
       "Spain, France, United Kingdom, United States                                                                                      1\n",
       ", France, Algeria                                                                                                                 1\n",
       "France, Israel, Germany, United States, United Kingdom                                                                            1\n",
       "Egypt, Denmark, Germany                                                                                                           1\n",
       "United States, Switzerland                                                                                                        1\n",
       "Hong Kong, Canada, United States                                                                                                  1\n",
       "France, Canada, United States, Spain                                                                                              1\n",
       "Switzerland, United Kingdom, Australia                                                                                            1\n",
       "France, Netherlands, Singapore                                                                                                    1\n",
       "Ireland, United States, United Kingdom                                                                                            1\n",
       "Australia, New Zealand                                                                                                            1\n",
       "South Korea, Czech Republic                                                                                                       1\n",
       "Australia, Germany                                                                                                                1\n",
       "United Kingdom, Australia, United States                                                                                          1\n",
       "Spain, United Kingdom, United States                                                                                              1\n",
       "Belgium, United Kingdom                                                                                                           1\n",
       "United Kingdom, United States, France, Italy                                                                                      1\n",
       "United Kingdom, Australia, France                                                                                                 1\n",
       "United States, Ghana, Burkina Faso, United Kingdom, Germany, Ethiopia                                                             1\n",
       "United States, India, France                                                                                                      1\n",
       "Finland                                                                                                                           1\n",
       "South Africa, United States, Japan                                                                                                1\n",
       "Spain, United States                                                                                                              1\n",
       "United States, Singapore                                                                                                          1\n",
       "United Kingdom, Australia, France, United States                                                                                  1\n",
       "Italy, Brazil, Greece                                                                                                             1\n",
       "United States, Italy, France, Japan                                                                                               1\n",
       "United States, Italy, Romania, United Kingdom                                                                                     1\n",
       "Argentina, Venezuela                                                                                                              1\n",
       ", South Korea                                                                                                                     1\n",
       "India, Nepal                                                                                                                      1\n",
       "New Zealand, Australia, France, United States                                                                                     1\n",
       "United Kingdom, Germany, Spain, United States                                                                                     1\n",
       "United States, France, Italy, United Kingdom                                                                                      1\n",
       "United States, India, United Kingdom                                                                                              1\n",
       "Lebanon, Palestine, Denmark, Qatar                                                                                                1\n",
       "Canada, United States, Mexico                                                                                                     1\n",
       "Czech Republic, United Kingdom, United States                                                                                     1\n",
       "Italy, United Kingdom                                                                                                             1\n",
       "United States, Brazil, Japan, Spain, India                                                                                        1\n",
       "United States, China, United Kingdom                                                                                              1\n",
       "Cameroon                                                                                                                          1\n",
       "Uruguay, Germany                                                                                                                  1\n",
       "France, United States, United Kingdom, Canada                                                                                     1\n",
       "Egypt, Saudi Arabia                                                                                                               1\n",
       "United Kingdom, France, Poland, Germany, United States                                                                            1\n",
       "Ireland, Switzerland, United Kingdom, France, United States                                                                       1\n",
       "United Kingdom, South Africa, France                                                                                              1\n",
       "Ireland, United Kingdom, France, Germany                                                                                          1\n",
       "Russia, United States                                                                                                             1\n",
       "France, United Kingdom                                                                                                            1\n",
       "Canada, Nigeria, United States                                                                                                    1\n",
       "United States, United Kingdom, Germany, Hungary                                                                                   1\n",
       "Mexico, France, Colombia                                                                                                          1\n",
       "Finland, Germany                                                                                                                  1\n",
       "Lebanon, Syria                                                                                                                    1\n",
       "Philippines, Singapore, Indonesia                                                                                                 1\n",
       "China, United States, Canada                                                                                                      1\n",
       "Lebanon, United Arab Emirates                                                                                                     1\n",
       "Canada, United States, Denmark                                                                                                    1\n",
       "Germany, United States, France                                                                                                    1\n",
       "United States, United Kingdom, New Zealand                                                                                        1\n",
       "Norway, Denmark                                                                                                                   1\n",
       "Syria, France, Lebanon, Qatar                                                                                                     1\n",
       "Mauritius                                                                                                                         1\n",
       "Mexico, Brazil                                                                                                                    1\n",
       "Germany, France                                                                                                                   1\n",
       "United Kingdom, France, Spain, United States                                                                                      1\n",
       "United States, Mexico, Spain, Malta                                                                                               1\n",
       "Zimbabwe                                                                                                                          1\n",
       "Georgia, Germany, France                                                                                                          1\n",
       "United Kingdom, Germany, United Arab Emirates, New Zealand                                                                        1\n",
       "United Kingdom, Ireland, United States                                                                                            1\n",
       "Canada, Germany, France, United States                                                                                            1\n",
       "United Kingdom, Japan                                                                                                             1\n",
       "Norway, Denmark, Netherlands, Sweden                                                                                              1\n",
       "Ireland, Canada                                                                                                                   1\n",
       "Italy, Switzerland, France, Germany                                                                                               1\n",
       "Mexico, Netherlands                                                                                                               1\n",
       "Germany, France, Russia                                                                                                           1\n",
       "France, Iran, United States                                                                                                       1\n",
       "Russia, Poland, Serbia                                                                                                            1\n",
       "Spain, Portugal                                                                                                                   1\n",
       "Mexico, Argentina                                                                                                                 1\n",
       "United Kingdom, Canada, United States, Cayman Islands                                                                             1\n",
       "Indonesia, United States                                                                                                          1\n",
       "United States, Israel, United Kingdom, Canada                                                                                     1\n",
       "Uruguay, Argentina, Spain                                                                                                         1\n",
       "Croatia                                                                                                                           1\n",
       "Iceland, Sweden, Belgium                                                                                                          1\n",
       "Mexico, Finland                                                                                                                   1\n",
       "Denmark, Spain                                                                                                                    1\n",
       "Chile, Argentina                                                                                                                  1\n",
       "Canada, Brazil                                                                                                                    1\n",
       "Canada, Germany                                                                                                                   1\n",
       "Pakistan, United Arab Emirates                                                                                                    1\n",
       "Ghana, United States                                                                                                              1\n",
       "United Arab Emirates, United Kingdom, India                                                                                       1\n",
       "Spain, Belgium                                                                                                                    1\n",
       "United States, Taiwan                                                                                                             1\n",
       "Austria, Iraq, United States                                                                                                      1\n",
       "United Kingdom, Malawi                                                                                                            1\n",
       "Paraguay, Argentina                                                                                                               1\n",
       "United Kingdom, Russia, United States                                                                                             1\n",
       "India, Pakistan                                                                                                                   1\n",
       "United Kingdom, West Germany                                                                                                      1\n",
       "India, Australia                                                                                                                  1\n",
       "United States,                                                                                                                    1\n",
       "Netherlands, Belgium, Germany, Jordan                                                                                             1\n",
       "Spain, Colombia                                                                                                                   1\n",
       "United Kingdom, South Africa, Australia, United States                                                                            1\n",
       "Bulgaria                                                                                                                          1\n",
       "Argentina, Brazil, France, Poland, Germany, Denmark                                                                               1\n",
       "United Kingdom, Spain, United States, Germany                                                                                     1\n",
       "Philippines, Qatar                                                                                                                1\n",
       "Norway, Germany, Sweden                                                                                                           1\n",
       "Saudi Arabia, Syria, Egypt, Lebanon, Kuwait                                                                                       1\n",
       "South Korea, China                                                                                                                1\n",
       "Georgia                                                                                                                           1\n",
       "Soviet Union, India                                                                                                               1\n",
       "Canada, Germany, South Africa                                                                                                     1\n",
       "South Korea, China, United States                                                                                                 1\n",
       "India, Mexico                                                                                                                     1\n",
       "United States, Canada, Indonesia, United Kingdom, China, Singapore                                                                1\n",
       "Italy, United States, Argentina                                                                                                   1\n",
       "Belgium, United Kingdom, United States                                                                                            1\n",
       "China, United States, Australia                                                                                                   1\n",
       "India, Germany, Austria                                                                                                           1\n",
       "United States, Brazil, South Korea, Mexico, Japan, Germany                                                                        1\n",
       "China, Japan                                                                                                                      1\n",
       "Argentina, France                                                                                                                 1\n",
       "China, United States, United Kingdom                                                                                              1\n",
       "France, Luxembourg, United States                                                                                                 1\n",
       "Colombia, Mexico                                                                                                                  1\n",
       "Cambodia                                                                                                                          1\n",
       "United States, Canada, Ireland                                                                                                    1\n",
       "Chile, Peru                                                                                                                       1\n",
       "Argentina, Italy                                                                                                                  1\n",
       "Canada, Japan, United States                                                                                                      1\n",
       "United Kingdom, Canada, United States, Germany                                                                                    1\n",
       "Italy, Switzerland, Albania, Poland                                                                                               1\n",
       "France, Luxembourg, Canada                                                                                                        1\n",
       "Uruguay, Spain, Mexico                                                                                                            1\n",
       "Argentina, United States                                                                                                          1\n",
       "France, Malta, United States                                                                                                      1\n",
       "Austria, Germany                                                                                                                  1\n",
       "Taiwan, China                                                                                                                     1\n",
       "United Kingdom, United States, Ireland                                                                                            1\n",
       "Brazil, United Kingdom                                                                                                            1\n",
       "Romania, France, Switzerland, Germany                                                                                             1\n",
       "Romania, United Kingdom                                                                                                           1\n",
       "Cyprus                                                                                                                            1\n",
       "United Kingdom, France, Belgium, Canada, United States                                                                            1\n",
       "United Kingdom, France, Belgium, Ireland, United States                                                                           1\n",
       "United States, Norway, Canada                                                                                                     1\n",
       "Kenya, United States                                                                                                              1\n",
       "France, South Korea, Japan, United States                                                                                         1\n",
       "Taiwan, Malaysia                                                                                                                  1\n",
       "Uruguay, Argentina, Germany, Spain                                                                                                1\n",
       "Netherlands, Germany, Denmark, United Kingdom                                                                                     1\n",
       "United States, United Kingdom, Japan                                                                                              1\n",
       "Spain, France, United States                                                                                                      1\n",
       "India, United Kingdom, China, Canada, Japan, South Korea, United States                                                           1\n",
       "Romania, United States                                                                                                            1\n",
       "Canada, Nigeria                                                                                                                   1\n",
       "Saudi Arabia, Netherlands, Germany, Jordan, United Arab Emirates, United States                                                   1\n",
       "United Kingdom, Spain                                                                                                             1\n",
       "Finland, France                                                                                                                   1\n",
       "United Kingdom, Germany, United States, France                                                                                    1\n",
       "Italy, United Kingdom, France                                                                                                     1\n",
       "Uruguay, Argentina                                                                                                                1\n",
       "United States, Mexico, Colombia                                                                                                   1\n",
       "Turkey, India                                                                                                                     1\n",
       "Italy, Turkey                                                                                                                     1\n",
       "United Kingdom, United States, Japan                                                                                              1\n",
       "France, Belgium, United States                                                                                                    1\n",
       "Puerto Rico, United States, Colombia                                                                                              1\n",
       "United States, United Kingdom, France, Germany, Japan                                                                             1\n",
       "Indonesia, South Korea, Singapore                                                                                                 1\n",
       "Thailand, China, United States                                                                                                    1\n",
       "Brazil, United States                                                                                                             1\n",
       "United Kingdom, Hungary, Australia                                                                                                1\n",
       "Italy, Belgium                                                                                                                    1\n",
       "Singapore, Malaysia                                                                                                               1\n",
       "France, Belgium, Luxembourg, Romania, Canada, United States                                                                       1\n",
       "South Africa, Nigeria                                                                                                             1\n",
       "United Kingdom, Hong Kong                                                                                                         1\n",
       "Denmark, Brazil, France, Portugal, Sweden                                                                                         1\n",
       "Argentina, United States, Mexico                                                                                                  1\n",
       "India, Turkey                                                                                                                     1\n",
       "Malaysia, Singapore, Hong Kong                                                                                                    1\n",
       "Philippines, Singapore                                                                                                            1\n",
       "Taiwan, China, France, United States                                                                                              1\n",
       "Germany, Italy                                                                                                                    1\n",
       "Colombia, Peru, United Kingdom                                                                                                    1\n",
       "United States, South Korea, Japan                                                                                                 1\n",
       "Finland, Germany, Belgium                                                                                                         1\n",
       "Netherlands, Germany, Italy, Canada                                                                                               1\n",
       "United States, Poland                                                                                                             1\n",
       "Spain, Germany, Denmark, United States                                                                                            1\n",
       "Norway, Sweden                                                                                                                    1\n",
       "South Korea, Canada, United States, China                                                                                         1\n",
       "Argentina, Uruguay, Serbia                                                                                                        1\n",
       "France, Japan                                                                                                                     1\n",
       "Mauritius, South Africa                                                                                                           1\n",
       "United Kingdom, United States, Germany, Denmark, Belgium, Japan                                                                   1\n",
       "Canada, Norway                                                                                                                    1\n",
       "India, United Kingdom, Canada, United States                                                                                      1\n",
       "Philippines, United States                                                                                                        1\n",
       "Romania, Bulgaria, Hungary                                                                                                        1\n",
       "Uruguay, Guatemala                                                                                                                1\n",
       "France, Senegal, Belgium                                                                                                          1\n",
       "Mexico, United States, Spain, Colombia                                                                                            1\n",
       "United Arab Emirates, Jordan                                                                                                      1\n",
       "Name: country, dtype: int64"
      ]
     },
     "execution_count": 385,
     "metadata": {},
     "output_type": "execute_result"
    }
   ],
   "source": [
    "df.country.value_counts()"
   ]
  },
  {
   "cell_type": "code",
   "execution_count": 395,
   "id": "ea467e08",
   "metadata": {
    "ExecuteTime": {
     "end_time": "2023-08-18T14:37:35.875803Z",
     "start_time": "2023-08-18T14:37:35.857178Z"
    }
   },
   "outputs": [],
   "source": [
    "fq = df['country'].value_counts(normalize=True)\n",
    "mapping = df['country'].map(fq)\n",
    "df[\"country_new\"] = df['country'].mask(mapping < 0.0025, \"Partner Countries\")"
   ]
  },
  {
   "cell_type": "code",
   "execution_count": 396,
   "id": "e72c0eb3",
   "metadata": {
    "ExecuteTime": {
     "end_time": "2023-08-18T14:37:36.822669Z",
     "start_time": "2023-08-18T14:37:36.805870Z"
    }
   },
   "outputs": [
    {
     "data": {
      "text/plain": [
       "United States                    2818\n",
       "Partner Countries                1309\n",
       "India                             972\n",
       "United Kingdom                    419\n",
       "Japan                             245\n",
       "South Korea                       199\n",
       "Canada                            181\n",
       "Spain                             145\n",
       "France                            124\n",
       "Mexico                            110\n",
       "Egypt                             106\n",
       "Turkey                            105\n",
       "Nigeria                            95\n",
       "Australia                          87\n",
       "Taiwan                             81\n",
       "Indonesia                          79\n",
       "Brazil                             77\n",
       "United Kingdom, United States      75\n",
       "Philippines                        75\n",
       "United States, Canada              73\n",
       "Germany                            67\n",
       "China                              66\n",
       "Thailand                           61\n",
       "Argentina                          56\n",
       "Hong Kong                          53\n",
       "United States, United Kingdom      47\n",
       "Canada, United States              45\n",
       "Italy                              45\n",
       "Colombia                           35\n",
       "South Africa                       30\n",
       "France, Belgium                    27\n",
       "Poland                             24\n",
       "Singapore                          23\n",
       "Malaysia                           22\n",
       "Name: country_new, dtype: int64"
      ]
     },
     "execution_count": 396,
     "metadata": {},
     "output_type": "execute_result"
    }
   ],
   "source": [
    "df[\"country_new\"].value_counts()"
   ]
  },
  {
   "cell_type": "code",
   "execution_count": 397,
   "id": "30763bec",
   "metadata": {
    "ExecuteTime": {
     "end_time": "2023-08-18T14:38:10.982391Z",
     "start_time": "2023-08-18T14:38:10.147781Z"
    }
   },
   "outputs": [
    {
     "data": {
      "text/plain": [
       "<AxesSubplot:xlabel='country_new', ylabel='count'>"
      ]
     },
     "execution_count": 397,
     "metadata": {},
     "output_type": "execute_result"
    },
    {
     "data": {
      "image/png": "[encoded data removed]",
      "text/plain": [
       "<Figure size 432x288 with 1 Axes>"
      ]
     },
     "metadata": {
      "needs_background": "light"
     },
     "output_type": "display_data"
    }
   ],
   "source": [
    "sns.countplot(x=df.country_new, order=df.country_new.value_counts().index)"
   ]
  },
  {
   "cell_type": "code",
   "execution_count": 398,
   "id": "6f80ef17",
   "metadata": {
    "ExecuteTime": {
     "end_time": "2023-08-18T14:38:32.937463Z",
     "start_time": "2023-08-18T14:38:32.923802Z"
    }
   },
   "outputs": [
    {
     "data": {
      "text/plain": [
       "831"
      ]
     },
     "execution_count": 398,
     "metadata": {},
     "output_type": "execute_result"
    }
   ],
   "source": [
    "df.country_new.isnull().sum()"
   ]
  },
  {
   "cell_type": "code",
   "execution_count": 399,
   "id": "fb9cc66d",
   "metadata": {
    "ExecuteTime": {
     "end_time": "2023-08-18T14:38:59.879664Z",
     "start_time": "2023-08-18T14:38:58.721373Z"
    }
   },
   "outputs": [
    {
     "data": {
      "image/png": "[encoded data removed]",
      "text/plain": [
       "<Figure size 1800x720 with 2 Axes>"
      ]
     },
     "metadata": {
      "needs_background": "light"
     },
     "output_type": "display_data"
    }
   ],
   "source": [
    "msn.matrix(df);"
   ]
  },
  {
   "cell_type": "raw",
   "id": "2f529467",
   "metadata": {},
   "source": [
    "country ile director arasında bir ilişki olabilir."
   ]
  },
  {
   "cell_type": "code",
   "execution_count": 400,
   "id": "6065f58c",
   "metadata": {
    "ExecuteTime": {
     "end_time": "2023-08-18T14:40:19.600827Z",
     "start_time": "2023-08-18T14:40:18.453734Z"
    }
   },
   "outputs": [
    {
     "data": {
      "text/plain": [
       "<AxesSubplot:>"
      ]
     },
     "execution_count": 400,
     "metadata": {},
     "output_type": "execute_result"
    },
    {
     "data": {
      "image/png": "[encoded data removed]",
      "text/plain": [
       "<Figure size 1440x864 with 2 Axes>"
      ]
     },
     "metadata": {
      "needs_background": "light"
     },
     "output_type": "display_data"
    }
   ],
   "source": [
    "msn.heatmap(df)\n",
    "\n",
    "#country ile director arasında bir ilişki yok"
   ]
  },
  {
   "cell_type": "code",
   "execution_count": 401,
   "id": "71d793e8",
   "metadata": {
    "ExecuteTime": {
     "end_time": "2023-08-18T14:41:44.886847Z",
     "start_time": "2023-08-18T14:41:44.854152Z"
    }
   },
   "outputs": [
    {
     "data": {
      "text/html": [
       "<div>\n",
       "<style scoped>\n",
       "    .dataframe tbody tr th:only-of-type {\n",
       "        vertical-align: middle;\n",
       "    }\n",
       "\n",
       "    .dataframe tbody tr th {\n",
       "        vertical-align: top;\n",
       "    }\n",
       "\n",
       "    .dataframe thead th {\n",
       "        text-align: right;\n",
       "    }\n",
       "</style>\n",
       "<table border=\"1\" class=\"dataframe\">\n",
       "  <thead>\n",
       "    <tr style=\"text-align: right;\">\n",
       "      <th></th>\n",
       "      <th>director</th>\n",
       "      <th>country_new</th>\n",
       "    </tr>\n",
       "  </thead>\n",
       "  <tbody>\n",
       "    <tr>\n",
       "      <th>0</th>\n",
       "      <td>Kirsten Johnson</td>\n",
       "      <td>United States</td>\n",
       "    </tr>\n",
       "    <tr>\n",
       "      <th>1</th>\n",
       "      <td>NaN</td>\n",
       "      <td>South Africa</td>\n",
       "    </tr>\n",
       "    <tr>\n",
       "      <th>2</th>\n",
       "      <td>Julien Leclercq</td>\n",
       "      <td>NaN</td>\n",
       "    </tr>\n",
       "    <tr>\n",
       "      <th>3</th>\n",
       "      <td>NaN</td>\n",
       "      <td>NaN</td>\n",
       "    </tr>\n",
       "    <tr>\n",
       "      <th>4</th>\n",
       "      <td>NaN</td>\n",
       "      <td>India</td>\n",
       "    </tr>\n",
       "    <tr>\n",
       "      <th>...</th>\n",
       "      <td>...</td>\n",
       "      <td>...</td>\n",
       "    </tr>\n",
       "    <tr>\n",
       "      <th>8802</th>\n",
       "      <td>David Fincher</td>\n",
       "      <td>United States</td>\n",
       "    </tr>\n",
       "    <tr>\n",
       "      <th>8803</th>\n",
       "      <td>NaN</td>\n",
       "      <td>NaN</td>\n",
       "    </tr>\n",
       "    <tr>\n",
       "      <th>8804</th>\n",
       "      <td>Ruben Fleischer</td>\n",
       "      <td>United States</td>\n",
       "    </tr>\n",
       "    <tr>\n",
       "      <th>8805</th>\n",
       "      <td>Peter Hewitt</td>\n",
       "      <td>United States</td>\n",
       "    </tr>\n",
       "    <tr>\n",
       "      <th>8806</th>\n",
       "      <td>Mozez Singh</td>\n",
       "      <td>India</td>\n",
       "    </tr>\n",
       "  </tbody>\n",
       "</table>\n",
       "<p>8807 rows × 2 columns</p>\n",
       "</div>"
      ],
      "text/plain": [
       "             director    country_new\n",
       "0     Kirsten Johnson  United States\n",
       "1                 NaN   South Africa\n",
       "2     Julien Leclercq            NaN\n",
       "3                 NaN            NaN\n",
       "4                 NaN          India\n",
       "...               ...            ...\n",
       "8802    David Fincher  United States\n",
       "8803              NaN            NaN\n",
       "8804  Ruben Fleischer  United States\n",
       "8805     Peter Hewitt  United States\n",
       "8806      Mozez Singh          India\n",
       "\n",
       "[8807 rows x 2 columns]"
      ]
     },
     "execution_count": 401,
     "metadata": {},
     "output_type": "execute_result"
    }
   ],
   "source": [
    "df[[\"director\", \"country_new\"]]"
   ]
  },
  {
   "cell_type": "code",
   "execution_count": 412,
   "id": "096a36f2",
   "metadata": {
    "ExecuteTime": {
     "end_time": "2023-08-18T14:48:00.574909Z",
     "start_time": "2023-08-18T14:48:00.559873Z"
    }
   },
   "outputs": [
    {
     "data": {
      "text/plain": [
       "country_new    422\n",
       "dtype: int64"
      ]
     },
     "execution_count": 412,
     "metadata": {},
     "output_type": "execute_result"
    }
   ],
   "source": [
    "df[~df[\"director\"].isnull()][[\"country_new\"]].isnull().sum()"
   ]
  },
  {
   "cell_type": "code",
   "execution_count": 411,
   "id": "0f97be63",
   "metadata": {
    "ExecuteTime": {
     "end_time": "2023-08-18T14:47:56.292557Z",
     "start_time": "2023-08-18T14:47:56.268385Z"
    }
   },
   "outputs": [
    {
     "data": {
      "text/html": [
       "<div>\n",
       "<style scoped>\n",
       "    .dataframe tbody tr th:only-of-type {\n",
       "        vertical-align: middle;\n",
       "    }\n",
       "\n",
       "    .dataframe tbody tr th {\n",
       "        vertical-align: top;\n",
       "    }\n",
       "\n",
       "    .dataframe thead th {\n",
       "        text-align: right;\n",
       "    }\n",
       "</style>\n",
       "<table border=\"1\" class=\"dataframe\">\n",
       "  <thead>\n",
       "    <tr style=\"text-align: right;\">\n",
       "      <th></th>\n",
       "      <th>director</th>\n",
       "      <th>country_new</th>\n",
       "    </tr>\n",
       "  </thead>\n",
       "  <tbody>\n",
       "    <tr>\n",
       "      <th>0</th>\n",
       "      <td>Kirsten Johnson</td>\n",
       "      <td>United States</td>\n",
       "    </tr>\n",
       "    <tr>\n",
       "      <th>2</th>\n",
       "      <td>Julien Leclercq</td>\n",
       "      <td>NaN</td>\n",
       "    </tr>\n",
       "    <tr>\n",
       "      <th>5</th>\n",
       "      <td>Mike Flanagan</td>\n",
       "      <td>NaN</td>\n",
       "    </tr>\n",
       "    <tr>\n",
       "      <th>6</th>\n",
       "      <td>Robert Cullen, José Luis Ucha</td>\n",
       "      <td>NaN</td>\n",
       "    </tr>\n",
       "    <tr>\n",
       "      <th>7</th>\n",
       "      <td>Haile Gerima</td>\n",
       "      <td>Partner Countries</td>\n",
       "    </tr>\n",
       "    <tr>\n",
       "      <th>...</th>\n",
       "      <td>...</td>\n",
       "      <td>...</td>\n",
       "    </tr>\n",
       "    <tr>\n",
       "      <th>8801</th>\n",
       "      <td>Majid Al Ansari</td>\n",
       "      <td>Partner Countries</td>\n",
       "    </tr>\n",
       "    <tr>\n",
       "      <th>8802</th>\n",
       "      <td>David Fincher</td>\n",
       "      <td>United States</td>\n",
       "    </tr>\n",
       "    <tr>\n",
       "      <th>8804</th>\n",
       "      <td>Ruben Fleischer</td>\n",
       "      <td>United States</td>\n",
       "    </tr>\n",
       "    <tr>\n",
       "      <th>8805</th>\n",
       "      <td>Peter Hewitt</td>\n",
       "      <td>United States</td>\n",
       "    </tr>\n",
       "    <tr>\n",
       "      <th>8806</th>\n",
       "      <td>Mozez Singh</td>\n",
       "      <td>India</td>\n",
       "    </tr>\n",
       "  </tbody>\n",
       "</table>\n",
       "<p>6173 rows × 2 columns</p>\n",
       "</div>"
      ],
      "text/plain": [
       "                           director        country_new\n",
       "0                   Kirsten Johnson      United States\n",
       "2                   Julien Leclercq                NaN\n",
       "5                     Mike Flanagan                NaN\n",
       "6     Robert Cullen, José Luis Ucha                NaN\n",
       "7                      Haile Gerima  Partner Countries\n",
       "...                             ...                ...\n",
       "8801                Majid Al Ansari  Partner Countries\n",
       "8802                  David Fincher      United States\n",
       "8804                Ruben Fleischer      United States\n",
       "8805                   Peter Hewitt      United States\n",
       "8806                    Mozez Singh              India\n",
       "\n",
       "[6173 rows x 2 columns]"
      ]
     },
     "execution_count": 411,
     "metadata": {},
     "output_type": "execute_result"
    }
   ],
   "source": [
    "df[~df[\"director\"].isnull()][[\"director\", \"country_new\"]]"
   ]
  },
  {
   "cell_type": "code",
   "execution_count": 136,
   "id": "df958913",
   "metadata": {
    "ExecuteTime": {
     "end_time": "2023-08-14T19:11:20.069611Z",
     "start_time": "2023-08-14T19:11:20.047745Z"
    }
   },
   "outputs": [
    {
     "data": {
      "text/plain": [
       "January 1, 2020      109\n",
       "November 1, 2019      89\n",
       "March 1, 2018         75\n",
       "December 31, 2019     74\n",
       "October 1, 2018       71\n",
       "                    ... \n",
       "December 4, 2016       1\n",
       "November 21, 2016      1\n",
       "November 19, 2016      1\n",
       "November 17, 2016      1\n",
       "January 11, 2020       1\n",
       "Name: date_added, Length: 1767, dtype: int64"
      ]
     },
     "execution_count": 136,
     "metadata": {},
     "output_type": "execute_result"
    }
   ],
   "source": [
    "df['date_added'].value_counts()\n",
    "#netflixe eklenme tarihi\n",
    "\n",
    "#df[\"date\"] = pd.to_datetime(df[\"date_added\"]) "
   ]
  },
  {
   "cell_type": "code",
   "execution_count": 250,
   "id": "949ac2cb",
   "metadata": {
    "ExecuteTime": {
     "end_time": "2023-08-18T10:49:47.842482Z",
     "start_time": "2023-08-18T10:49:47.756890Z"
    }
   },
   "outputs": [],
   "source": [
    "df[[\"month_day\", \"year\"]] = df['date_added'].str.split(\",\", expand=True, n=2)\n",
    "#expand = True yapınca ikiye bölüyo oraki stringi 2'den fazla olacak şekilde de ayarlayabilirsin (n=4 gibi)"
   ]
  },
  {
   "cell_type": "code",
   "execution_count": 251,
   "id": "dd0f8c5e",
   "metadata": {
    "ExecuteTime": {
     "end_time": "2023-08-18T10:49:48.759566Z",
     "start_time": "2023-08-18T10:49:48.745770Z"
    }
   },
   "outputs": [],
   "source": [
    "df[\"month_day\"] = df[\"month_day\"].str.strip()"
   ]
  },
  {
   "cell_type": "code",
   "execution_count": 252,
   "id": "0e587ee2",
   "metadata": {
    "ExecuteTime": {
     "end_time": "2023-08-18T10:49:49.676405Z",
     "start_time": "2023-08-18T10:49:49.631775Z"
    }
   },
   "outputs": [],
   "source": [
    "df[[\"month\", \"day\"]] = df['month_day'].str.split(\" \", expand=True)"
   ]
  },
  {
   "cell_type": "code",
   "execution_count": 163,
   "id": "5ff5889b",
   "metadata": {
    "ExecuteTime": {
     "end_time": "2023-08-14T19:22:14.293803Z",
     "start_time": "2023-08-14T19:22:14.282933Z"
    }
   },
   "outputs": [
    {
     "data": {
      "text/plain": [
       " 2019    2016\n",
       " 2020    1879\n",
       " 2018    1649\n",
       " 2021    1498\n",
       " 2017    1188\n",
       " 2016     429\n",
       " 2015      82\n",
       " 2014      24\n",
       " 2011      13\n",
       " 2013      11\n",
       " 2012       3\n",
       " 2009       2\n",
       " 2008       2\n",
       " 2010       1\n",
       "Name: year, dtype: int64"
      ]
     },
     "execution_count": 163,
     "metadata": {},
     "output_type": "execute_result"
    }
   ],
   "source": [
    "df.year.value_counts()"
   ]
  },
  {
   "cell_type": "code",
   "execution_count": 254,
   "id": "7a0665ed",
   "metadata": {
    "ExecuteTime": {
     "end_time": "2023-08-18T10:49:55.318951Z",
     "start_time": "2023-08-18T10:49:55.299217Z"
    }
   },
   "outputs": [],
   "source": [
    "fq = df['year'].value_counts(normalize=True)\n",
    "mapping = df['year'].map(fq)\n",
    "df[\"year_new\"] = df['year'].mask(mapping < 0.01, \"Other\")"
   ]
  },
  {
   "cell_type": "code",
   "execution_count": 255,
   "id": "bb7489e1",
   "metadata": {
    "ExecuteTime": {
     "end_time": "2023-08-18T10:49:56.136408Z",
     "start_time": "2023-08-18T10:49:55.615252Z"
    },
    "scrolled": true
   },
   "outputs": [
    {
     "data": {
      "text/plain": [
       "<AxesSubplot:xlabel='year_new', ylabel='count'>"
      ]
     },
     "execution_count": 255,
     "metadata": {},
     "output_type": "execute_result"
    },
    {
     "data": {
      "image/png": "[encoded data removed]",
      "text/plain": [
       "<Figure size 432x288 with 1 Axes>"
      ]
     },
     "metadata": {
      "needs_background": "light"
     },
     "output_type": "display_data"
    }
   ],
   "source": [
    "sns.countplot(x=df[\"year_new\"], data=df, order=df[\"year_new\"].value_counts().index)"
   ]
  },
  {
   "cell_type": "code",
   "execution_count": 167,
   "id": "c6fc0f0b",
   "metadata": {
    "ExecuteTime": {
     "end_time": "2023-08-14T19:25:41.091999Z",
     "start_time": "2023-08-14T19:25:41.069969Z"
    }
   },
   "outputs": [
    {
     "data": {
      "text/plain": [
       "July         827\n",
       "December     813\n",
       "September    770\n",
       "April        764\n",
       "October      760\n",
       "August       755\n",
       "March        742\n",
       "January      738\n",
       "June         728\n",
       "November     705\n",
       "May          632\n",
       "February     563\n",
       "Name: month, dtype: int64"
      ]
     },
     "execution_count": 167,
     "metadata": {},
     "output_type": "execute_result"
    }
   ],
   "source": [
    "df.month.value_counts()"
   ]
  },
  {
   "cell_type": "code",
   "execution_count": 170,
   "id": "9ad44a8d",
   "metadata": {
    "ExecuteTime": {
     "end_time": "2023-08-14T19:26:29.785951Z",
     "start_time": "2023-08-14T19:26:29.765590Z"
    }
   },
   "outputs": [
    {
     "data": {
      "text/plain": [
       "1     2212\n",
       "15     687\n",
       "2      325\n",
       "16     289\n",
       "31     274\n",
       "20     249\n",
       "19     243\n",
       "5      231\n",
       "22     230\n",
       "10     214\n",
       "30     210\n",
       "6      210\n",
       "18     207\n",
       "26     206\n",
       "8      201\n",
       "14     198\n",
       "25     197\n",
       "27     195\n",
       "7      194\n",
       "21     193\n",
       "28     190\n",
       "23     184\n",
       "12     181\n",
       "17     180\n",
       "4      175\n",
       "13     175\n",
       "24     159\n",
       "3      151\n",
       "11     149\n",
       "9      147\n",
       "29     141\n",
       "Name: day, dtype: int64"
      ]
     },
     "execution_count": 170,
     "metadata": {},
     "output_type": "execute_result"
    }
   ],
   "source": [
    "df.day.value_counts()"
   ]
  },
  {
   "cell_type": "code",
   "execution_count": 171,
   "id": "879692fb",
   "metadata": {
    "ExecuteTime": {
     "end_time": "2023-08-14T19:28:07.895303Z",
     "start_time": "2023-08-14T19:28:07.879226Z"
    }
   },
   "outputs": [
    {
     "data": {
      "text/plain": [
       "Index(['show_id', 'type', 'title', 'director', 'cast', 'country', 'date_added',\n",
       "       'release_year', 'rating', 'duration', 'listed_in', 'description',\n",
       "       'type_num', 'rating_new', 'country_new', 'date', 'date_added_new',\n",
       "       'month_day', 'year', 'month', 'day', 'year_new'],\n",
       "      dtype='object')"
      ]
     },
     "execution_count": 171,
     "metadata": {},
     "output_type": "execute_result"
    }
   ],
   "source": [
    "df.columns"
   ]
  },
  {
   "cell_type": "code",
   "execution_count": 172,
   "id": "ce04a166",
   "metadata": {
    "ExecuteTime": {
     "end_time": "2023-08-14T19:28:24.178100Z",
     "start_time": "2023-08-14T19:28:24.167659Z"
    }
   },
   "outputs": [
    {
     "data": {
      "text/plain": [
       "2018    1147\n",
       "2017    1032\n",
       "2019    1030\n",
       "2020     953\n",
       "2016     902\n",
       "        ... \n",
       "1959       1\n",
       "1925       1\n",
       "1961       1\n",
       "1947       1\n",
       "1966       1\n",
       "Name: release_year, Length: 74, dtype: int64"
      ]
     },
     "execution_count": 172,
     "metadata": {},
     "output_type": "execute_result"
    }
   ],
   "source": [
    "df.release_year.value_counts()"
   ]
  },
  {
   "cell_type": "code",
   "execution_count": 179,
   "id": "fd1a02a9",
   "metadata": {
    "ExecuteTime": {
     "end_time": "2023-08-14T19:32:53.193821Z",
     "start_time": "2023-08-14T19:32:53.183751Z"
    },
    "scrolled": true
   },
   "outputs": [
    {
     "data": {
      "text/plain": [
       "1 Season     1793\n",
       "2 Seasons     425\n",
       "3 Seasons     199\n",
       "90 min        152\n",
       "94 min        146\n",
       "             ... \n",
       "16 min          1\n",
       "186 min         1\n",
       "193 min         1\n",
       "189 min         1\n",
       "191 min         1\n",
       "Name: duration, Length: 220, dtype: int64"
      ]
     },
     "execution_count": 179,
     "metadata": {},
     "output_type": "execute_result"
    }
   ],
   "source": [
    "df.duration.value_counts()"
   ]
  },
  {
   "cell_type": "code",
   "execution_count": 256,
   "id": "405775fb",
   "metadata": {
    "ExecuteTime": {
     "end_time": "2023-08-18T10:50:05.340255Z",
     "start_time": "2023-08-18T10:50:05.307969Z"
    }
   },
   "outputs": [
    {
     "data": {
      "text/html": [
       "<div>\n",
       "<style scoped>\n",
       "    .dataframe tbody tr th:only-of-type {\n",
       "        vertical-align: middle;\n",
       "    }\n",
       "\n",
       "    .dataframe tbody tr th {\n",
       "        vertical-align: top;\n",
       "    }\n",
       "\n",
       "    .dataframe thead th {\n",
       "        text-align: right;\n",
       "    }\n",
       "</style>\n",
       "<table border=\"1\" class=\"dataframe\">\n",
       "  <thead>\n",
       "    <tr style=\"text-align: right;\">\n",
       "      <th></th>\n",
       "      <th>show_id</th>\n",
       "      <th>type</th>\n",
       "      <th>title</th>\n",
       "      <th>director</th>\n",
       "      <th>cast</th>\n",
       "      <th>country</th>\n",
       "      <th>date_added</th>\n",
       "      <th>release_year</th>\n",
       "      <th>rating</th>\n",
       "      <th>duration</th>\n",
       "      <th>listed_in</th>\n",
       "      <th>description</th>\n",
       "      <th>rating_new</th>\n",
       "      <th>country_new</th>\n",
       "      <th>month_day</th>\n",
       "      <th>year</th>\n",
       "      <th>month</th>\n",
       "      <th>day</th>\n",
       "      <th>year_new</th>\n",
       "    </tr>\n",
       "  </thead>\n",
       "  <tbody>\n",
       "    <tr>\n",
       "      <th>5541</th>\n",
       "      <td>s5542</td>\n",
       "      <td>Movie</td>\n",
       "      <td>Louis C.K. 2017</td>\n",
       "      <td>Louis C.K.</td>\n",
       "      <td>Louis C.K.</td>\n",
       "      <td>United States</td>\n",
       "      <td>April 4, 2017</td>\n",
       "      <td>2017</td>\n",
       "      <td>74 min</td>\n",
       "      <td>NaN</td>\n",
       "      <td>Movies</td>\n",
       "      <td>Louis C.K. muses on religion, eternal love, gi...</td>\n",
       "      <td>Other</td>\n",
       "      <td>United States</td>\n",
       "      <td>April 4</td>\n",
       "      <td>2017</td>\n",
       "      <td>April</td>\n",
       "      <td>4</td>\n",
       "      <td>2017</td>\n",
       "    </tr>\n",
       "    <tr>\n",
       "      <th>5794</th>\n",
       "      <td>s5795</td>\n",
       "      <td>Movie</td>\n",
       "      <td>Louis C.K.: Hilarious</td>\n",
       "      <td>Louis C.K.</td>\n",
       "      <td>Louis C.K.</td>\n",
       "      <td>United States</td>\n",
       "      <td>September 16, 2016</td>\n",
       "      <td>2010</td>\n",
       "      <td>84 min</td>\n",
       "      <td>NaN</td>\n",
       "      <td>Movies</td>\n",
       "      <td>Emmy-winning comedy writer Louis C.K. brings h...</td>\n",
       "      <td>Other</td>\n",
       "      <td>United States</td>\n",
       "      <td>September 16</td>\n",
       "      <td>2016</td>\n",
       "      <td>September</td>\n",
       "      <td>16</td>\n",
       "      <td>2016</td>\n",
       "    </tr>\n",
       "    <tr>\n",
       "      <th>5813</th>\n",
       "      <td>s5814</td>\n",
       "      <td>Movie</td>\n",
       "      <td>Louis C.K.: Live at the Comedy Store</td>\n",
       "      <td>Louis C.K.</td>\n",
       "      <td>Louis C.K.</td>\n",
       "      <td>United States</td>\n",
       "      <td>August 15, 2016</td>\n",
       "      <td>2015</td>\n",
       "      <td>66 min</td>\n",
       "      <td>NaN</td>\n",
       "      <td>Movies</td>\n",
       "      <td>The comic puts his trademark hilarious/thought...</td>\n",
       "      <td>Other</td>\n",
       "      <td>United States</td>\n",
       "      <td>August 15</td>\n",
       "      <td>2016</td>\n",
       "      <td>August</td>\n",
       "      <td>15</td>\n",
       "      <td>2016</td>\n",
       "    </tr>\n",
       "  </tbody>\n",
       "</table>\n",
       "</div>"
      ],
      "text/plain": [
       "     show_id   type                                 title    director  \\\n",
       "5541   s5542  Movie                       Louis C.K. 2017  Louis C.K.   \n",
       "5794   s5795  Movie                 Louis C.K.: Hilarious  Louis C.K.   \n",
       "5813   s5814  Movie  Louis C.K.: Live at the Comedy Store  Louis C.K.   \n",
       "\n",
       "            cast        country          date_added  release_year  rating  \\\n",
       "5541  Louis C.K.  United States       April 4, 2017          2017  74 min   \n",
       "5794  Louis C.K.  United States  September 16, 2016          2010  84 min   \n",
       "5813  Louis C.K.  United States     August 15, 2016          2015  66 min   \n",
       "\n",
       "     duration listed_in                                        description  \\\n",
       "5541      NaN    Movies  Louis C.K. muses on religion, eternal love, gi...   \n",
       "5794      NaN    Movies  Emmy-winning comedy writer Louis C.K. brings h...   \n",
       "5813      NaN    Movies  The comic puts his trademark hilarious/thought...   \n",
       "\n",
       "     rating_new    country_new     month_day   year      month day year_new  \n",
       "5541      Other  United States       April 4   2017      April   4     2017  \n",
       "5794      Other  United States  September 16   2016  September  16     2016  \n",
       "5813      Other  United States     August 15   2016     August  15     2016  "
      ]
     },
     "execution_count": 256,
     "metadata": {},
     "output_type": "execute_result"
    }
   ],
   "source": [
    "df[df.duration.isnull()]"
   ]
  },
  {
   "cell_type": "code",
   "execution_count": 261,
   "id": "b0c9bc59",
   "metadata": {
    "ExecuteTime": {
     "end_time": "2023-08-18T10:51:41.240690Z",
     "start_time": "2023-08-18T10:51:41.220582Z"
    }
   },
   "outputs": [],
   "source": [
    "df.loc[df.show_id == \"s5542\", \"duration\"] = \"74 min\""
   ]
  },
  {
   "cell_type": "code",
   "execution_count": 263,
   "id": "02222bc9",
   "metadata": {
    "ExecuteTime": {
     "end_time": "2023-08-18T10:51:58.878696Z",
     "start_time": "2023-08-18T10:51:58.867826Z"
    }
   },
   "outputs": [],
   "source": [
    "df.loc[df.show_id == \"s5795\", \"duration\"] = \"84 min\""
   ]
  },
  {
   "cell_type": "code",
   "execution_count": 264,
   "id": "53fd6e79",
   "metadata": {
    "ExecuteTime": {
     "end_time": "2023-08-18T10:52:09.940772Z",
     "start_time": "2023-08-18T10:52:09.924403Z"
    }
   },
   "outputs": [],
   "source": [
    "df.loc[df.show_id == \"s5814\", \"duration\"] = \"66 min\""
   ]
  },
  {
   "cell_type": "code",
   "execution_count": 266,
   "id": "26ed3114",
   "metadata": {
    "ExecuteTime": {
     "end_time": "2023-08-18T10:52:37.047285Z",
     "start_time": "2023-08-18T10:52:37.035679Z"
    }
   },
   "outputs": [
    {
     "data": {
      "text/plain": [
       "False"
      ]
     },
     "execution_count": 266,
     "metadata": {},
     "output_type": "execute_result"
    }
   ],
   "source": [
    "df.duration.isnull().any()"
   ]
  },
  {
   "cell_type": "code",
   "execution_count": 303,
   "id": "08a29f5e",
   "metadata": {
    "ExecuteTime": {
     "end_time": "2023-08-18T12:02:24.278000Z",
     "start_time": "2023-08-18T12:02:24.265039Z"
    }
   },
   "outputs": [
    {
     "data": {
      "text/plain": [
       "1 Season      1793\n",
       "2 Seasons      425\n",
       "3 Seasons      199\n",
       "90 min         152\n",
       "94 min         146\n",
       "97 min         146\n",
       "93 min         146\n",
       "91 min         144\n",
       "95 min         137\n",
       "96 min         130\n",
       "92 min         129\n",
       "102 min        122\n",
       "98 min         120\n",
       "99 min         118\n",
       "101 min        116\n",
       "88 min         116\n",
       "103 min        114\n",
       "106 min        111\n",
       "100 min        108\n",
       "89 min         106\n",
       "104 min        104\n",
       "86 min         103\n",
       "105 min        101\n",
       "87 min         101\n",
       "107 min         98\n",
       "110 min         97\n",
       "4 Seasons       95\n",
       "108 min         87\n",
       "116 min         80\n",
       "112 min         74\n",
       "85 min          73\n",
       "113 min         69\n",
       "109 min         69\n",
       "111 min         68\n",
       "84 min          68\n",
       "118 min         65\n",
       "83 min          65\n",
       "5 Seasons       65\n",
       "119 min         63\n",
       "81 min          62\n",
       "115 min         61\n",
       "117 min         61\n",
       "120 min         56\n",
       "114 min         56\n",
       "121 min         54\n",
       "82 min          52\n",
       "124 min         52\n",
       "127 min         48\n",
       "122 min         45\n",
       "78 min          45\n",
       "123 min         44\n",
       "126 min         44\n",
       "80 min          43\n",
       "133 min         42\n",
       "128 min         41\n",
       "130 min         40\n",
       "135 min         39\n",
       "137 min         38\n",
       "132 min         37\n",
       "125 min         36\n",
       "75 min          35\n",
       "79 min          35\n",
       "131 min         34\n",
       "6 Seasons       33\n",
       "72 min          33\n",
       "63 min          32\n",
       "129 min         32\n",
       "74 min          32\n",
       "76 min          31\n",
       "61 min          31\n",
       "73 min          30\n",
       "77 min          30\n",
       "66 min          29\n",
       "60 min          29\n",
       "71 min          28\n",
       "69 min          28\n",
       "70 min          28\n",
       "140 min         25\n",
       "65 min          25\n",
       "58 min          25\n",
       "59 min          25\n",
       "68 min          25\n",
       "54 min          24\n",
       "46 min          24\n",
       "62 min          24\n",
       "53 min          24\n",
       "64 min          23\n",
       "136 min         23\n",
       "7 Seasons       23\n",
       "24 min          23\n",
       "143 min         23\n",
       "134 min         22\n",
       "139 min         22\n",
       "138 min         21\n",
       "67 min          21\n",
       "52 min          20\n",
       "44 min          19\n",
       "141 min         19\n",
       "148 min         19\n",
       "145 min         18\n",
       "150 min         17\n",
       "8 Seasons       17\n",
       "22 min          16\n",
       "55 min          16\n",
       "151 min         15\n",
       "149 min         15\n",
       "162 min         14\n",
       "57 min          14\n",
       "146 min         13\n",
       "23 min          13\n",
       "142 min         13\n",
       "154 min         13\n",
       "40 min          13\n",
       "158 min         12\n",
       "56 min          12\n",
       "147 min         12\n",
       "153 min         11\n",
       "163 min         11\n",
       "25 min          11\n",
       "51 min          11\n",
       "29 min          11\n",
       "47 min          11\n",
       "161 min         10\n",
       "45 min          10\n",
       "155 min         10\n",
       "28 min          10\n",
       "50 min          10\n",
       "156 min         10\n",
       "42 min           9\n",
       "32 min           9\n",
       "144 min          9\n",
       "9 Seasons        9\n",
       "49 min           9\n",
       "166 min          8\n",
       "165 min          8\n",
       "48 min           8\n",
       "168 min          7\n",
       "10 Seasons       7\n",
       "171 min          7\n",
       "173 min          6\n",
       "185 min          6\n",
       "26 min           6\n",
       "33 min           6\n",
       "159 min          6\n",
       "30 min           6\n",
       "160 min          6\n",
       "157 min          6\n",
       "176 min          5\n",
       "152 min          5\n",
       "170 min          5\n",
       "36 min           5\n",
       "177 min          5\n",
       "38 min           5\n",
       "35 min           5\n",
       "172 min          4\n",
       "181 min          4\n",
       "164 min          4\n",
       "14 min           3\n",
       "15 min           3\n",
       "13 min           3\n",
       "41 min           3\n",
       "17 min           3\n",
       "27 min           3\n",
       "34 min           3\n",
       "37 min           3\n",
       "12 min           3\n",
       "21 min           3\n",
       "182 min          3\n",
       "13 Seasons       3\n",
       "192 min          2\n",
       "19 min           2\n",
       "174 min          2\n",
       "11 min           2\n",
       "209 min          2\n",
       "187 min          2\n",
       "31 min           2\n",
       "12 Seasons       2\n",
       "39 min           2\n",
       "169 min          2\n",
       "180 min          2\n",
       "195 min          2\n",
       "179 min          2\n",
       "15 Seasons       2\n",
       "20 min           2\n",
       "190 min          2\n",
       "204 min          2\n",
       "11 Seasons       2\n",
       "200 min          1\n",
       "196 min          1\n",
       "43 min           1\n",
       "167 min          1\n",
       "229 min          1\n",
       "178 min          1\n",
       "228 min          1\n",
       "214 min          1\n",
       "18 min           1\n",
       "205 min          1\n",
       "201 min          1\n",
       "312 min          1\n",
       "17 Seasons       1\n",
       "3 min            1\n",
       "10 min           1\n",
       "8 min            1\n",
       "9 min            1\n",
       "224 min          1\n",
       "212 min          1\n",
       "203 min          1\n",
       "194 min          1\n",
       "233 min          1\n",
       "237 min          1\n",
       "230 min          1\n",
       "253 min          1\n",
       "273 min          1\n",
       "208 min          1\n",
       "5 min            1\n",
       "16 min           1\n",
       "186 min          1\n",
       "193 min          1\n",
       "189 min          1\n",
       "191 min          1\n",
       "Name: duration, dtype: int64"
      ]
     },
     "execution_count": 303,
     "metadata": {},
     "output_type": "execute_result"
    }
   ],
   "source": [
    "df.duration.value_counts()"
   ]
  },
  {
   "cell_type": "raw",
   "id": "2e7008a6",
   "metadata": {},
   "source": [
    "season ve seasons olanları 1, min olanları 0 yap. tv shows ve movie ile dağılımına bak\n",
    "\n",
    "season ve seasons olanları 1, min olanları 0 yap. 0 olanları integer olarak kaydet (split olarak ayır). tv show olanların ortalama dk değerine bak. seasonlar tv show olmalı! "
   ]
  },
  {
   "cell_type": "code",
   "execution_count": 277,
   "id": "026c1678",
   "metadata": {
    "ExecuteTime": {
     "end_time": "2023-08-18T11:07:19.543692Z",
     "start_time": "2023-08-18T11:07:19.520078Z"
    }
   },
   "outputs": [],
   "source": [
    "df.loc[df.duration.str.contains(\"Season\"), \"duration_new\"] = 1\n",
    "df.loc[df.duration.str.contains(\"min\"), \"duration_new\"] = 0"
   ]
  },
  {
   "cell_type": "code",
   "execution_count": 280,
   "id": "045d6df7",
   "metadata": {
    "ExecuteTime": {
     "end_time": "2023-08-18T11:08:07.636859Z",
     "start_time": "2023-08-18T11:08:07.626414Z"
    }
   },
   "outputs": [
    {
     "data": {
      "text/plain": [
       "False"
      ]
     },
     "execution_count": 280,
     "metadata": {},
     "output_type": "execute_result"
    }
   ],
   "source": [
    "df.duration_new.isnull().any()"
   ]
  },
  {
   "cell_type": "code",
   "execution_count": 283,
   "id": "d95b6a24",
   "metadata": {
    "ExecuteTime": {
     "end_time": "2023-08-18T11:09:10.691719Z",
     "start_time": "2023-08-18T11:09:10.669938Z"
    }
   },
   "outputs": [
    {
     "data": {
      "text/html": [
       "<div>\n",
       "<style scoped>\n",
       "    .dataframe tbody tr th:only-of-type {\n",
       "        vertical-align: middle;\n",
       "    }\n",
       "\n",
       "    .dataframe tbody tr th {\n",
       "        vertical-align: top;\n",
       "    }\n",
       "\n",
       "    .dataframe thead th {\n",
       "        text-align: right;\n",
       "    }\n",
       "</style>\n",
       "<table border=\"1\" class=\"dataframe\">\n",
       "  <thead>\n",
       "    <tr style=\"text-align: right;\">\n",
       "      <th></th>\n",
       "      <th>show_id</th>\n",
       "      <th>type</th>\n",
       "      <th>title</th>\n",
       "      <th>director</th>\n",
       "      <th>cast</th>\n",
       "      <th>country</th>\n",
       "      <th>date_added</th>\n",
       "      <th>release_year</th>\n",
       "      <th>rating</th>\n",
       "      <th>duration</th>\n",
       "      <th>listed_in</th>\n",
       "      <th>description</th>\n",
       "      <th>rating_new</th>\n",
       "      <th>country_new</th>\n",
       "      <th>month_day</th>\n",
       "      <th>year</th>\n",
       "      <th>month</th>\n",
       "      <th>day</th>\n",
       "      <th>year_new</th>\n",
       "      <th>duration_new</th>\n",
       "    </tr>\n",
       "  </thead>\n",
       "  <tbody>\n",
       "    <tr>\n",
       "      <th>0</th>\n",
       "      <td>s1</td>\n",
       "      <td>Movie</td>\n",
       "      <td>Dick Johnson Is Dead</td>\n",
       "      <td>Kirsten Johnson</td>\n",
       "      <td>NaN</td>\n",
       "      <td>United States</td>\n",
       "      <td>September 25, 2021</td>\n",
       "      <td>2020</td>\n",
       "      <td>PG-13</td>\n",
       "      <td>90 min</td>\n",
       "      <td>Documentaries</td>\n",
       "      <td>As her father nears the end of his life, filmm...</td>\n",
       "      <td>PG-13</td>\n",
       "      <td>United States</td>\n",
       "      <td>September 25</td>\n",
       "      <td>2021</td>\n",
       "      <td>September</td>\n",
       "      <td>25</td>\n",
       "      <td>2021</td>\n",
       "      <td>0.0</td>\n",
       "    </tr>\n",
       "    <tr>\n",
       "      <th>1</th>\n",
       "      <td>s2</td>\n",
       "      <td>TV Show</td>\n",
       "      <td>Blood &amp; Water</td>\n",
       "      <td>NaN</td>\n",
       "      <td>Ama Qamata, Khosi Ngema, Gail Mabalane, Thaban...</td>\n",
       "      <td>South Africa</td>\n",
       "      <td>September 24, 2021</td>\n",
       "      <td>2021</td>\n",
       "      <td>TV-MA</td>\n",
       "      <td>2 Seasons</td>\n",
       "      <td>International TV Shows, TV Dramas, TV Mysteries</td>\n",
       "      <td>After crossing paths at a party, a Cape Town t...</td>\n",
       "      <td>TV-MA</td>\n",
       "      <td>South Africa</td>\n",
       "      <td>September 24</td>\n",
       "      <td>2021</td>\n",
       "      <td>September</td>\n",
       "      <td>24</td>\n",
       "      <td>2021</td>\n",
       "      <td>1.0</td>\n",
       "    </tr>\n",
       "  </tbody>\n",
       "</table>\n",
       "</div>"
      ],
      "text/plain": [
       "  show_id     type                 title         director  \\\n",
       "0      s1    Movie  Dick Johnson Is Dead  Kirsten Johnson   \n",
       "1      s2  TV Show         Blood & Water              NaN   \n",
       "\n",
       "                                                cast        country  \\\n",
       "0                                                NaN  United States   \n",
       "1  Ama Qamata, Khosi Ngema, Gail Mabalane, Thaban...   South Africa   \n",
       "\n",
       "           date_added  release_year rating   duration  \\\n",
       "0  September 25, 2021          2020  PG-13     90 min   \n",
       "1  September 24, 2021          2021  TV-MA  2 Seasons   \n",
       "\n",
       "                                         listed_in  \\\n",
       "0                                    Documentaries   \n",
       "1  International TV Shows, TV Dramas, TV Mysteries   \n",
       "\n",
       "                                         description rating_new  \\\n",
       "0  As her father nears the end of his life, filmm...      PG-13   \n",
       "1  After crossing paths at a party, a Cape Town t...      TV-MA   \n",
       "\n",
       "     country_new     month_day   year      month day year_new  duration_new  \n",
       "0  United States  September 25   2021  September  25     2021           0.0  \n",
       "1   South Africa  September 24   2021  September  24     2021           1.0  "
      ]
     },
     "execution_count": 283,
     "metadata": {},
     "output_type": "execute_result"
    }
   ],
   "source": [
    "df.head(2)"
   ]
  },
  {
   "cell_type": "code",
   "execution_count": 304,
   "id": "f8300f05",
   "metadata": {
    "ExecuteTime": {
     "end_time": "2023-08-18T12:03:07.320850Z",
     "start_time": "2023-08-18T12:03:07.207031Z"
    }
   },
   "outputs": [
    {
     "name": "stdout",
     "output_type": "stream",
     "text": [
      "0.0    6131\n",
      "1.0    2676\n",
      "Name: duration_new, dtype: int64\n",
      "Movie      6131\n",
      "TV Show    2676\n",
      "Name: type, dtype: int64\n"
     ]
    },
    {
     "data": {
      "image/png": "[encoded data removed]",
      "text/plain": [
       "<Figure size 432x288 with 1 Axes>"
      ]
     },
     "metadata": {
      "needs_background": "light"
     },
     "output_type": "display_data"
    }
   ],
   "source": [
    "sns.countplot(data=df, x=\"duration_new\", hue=\"type\")\n",
    "#Seasons = 1\n",
    "#min olanlar = 0\n",
    "\n",
    "print(df.duration_new.value_counts())\n",
    "print(df.type.value_counts())\n",
    "\n",
    "#demekki Movie olanlar min olarak geçenler\n",
    "#tv shows olanlar season"
   ]
  },
  {
   "cell_type": "code",
   "execution_count": 318,
   "id": "9ae6bd70",
   "metadata": {
    "ExecuteTime": {
     "end_time": "2023-08-18T12:13:50.993354Z",
     "start_time": "2023-08-18T12:13:50.966141Z"
    }
   },
   "outputs": [],
   "source": [
    "df[[\"minute_of_movies\", \"irrevelant\"]] = df[df.type==\"Movie\"].duration.str.split(\" \", expand=True)"
   ]
  },
  {
   "cell_type": "code",
   "execution_count": 321,
   "id": "2a3a675f",
   "metadata": {
    "ExecuteTime": {
     "end_time": "2023-08-18T12:14:35.587391Z",
     "start_time": "2023-08-18T12:14:35.569442Z"
    }
   },
   "outputs": [],
   "source": [
    "df = df.drop([\"irrevelant\"], axis=1)"
   ]
  },
  {
   "cell_type": "code",
   "execution_count": 328,
   "id": "962d85ef",
   "metadata": {
    "ExecuteTime": {
     "end_time": "2023-08-18T12:19:16.813573Z",
     "start_time": "2023-08-18T12:19:16.795616Z"
    }
   },
   "outputs": [],
   "source": [
    "df.minute_of_movies = df.minute_of_movies.fillna(0)"
   ]
  },
  {
   "cell_type": "code",
   "execution_count": 366,
   "id": "0515a2ca",
   "metadata": {
    "ExecuteTime": {
     "end_time": "2023-08-18T12:39:39.117156Z",
     "start_time": "2023-08-18T12:39:39.097210Z"
    }
   },
   "outputs": [
    {
     "data": {
      "text/html": [
       "<div>\n",
       "<style scoped>\n",
       "    .dataframe tbody tr th:only-of-type {\n",
       "        vertical-align: middle;\n",
       "    }\n",
       "\n",
       "    .dataframe tbody tr th {\n",
       "        vertical-align: top;\n",
       "    }\n",
       "\n",
       "    .dataframe thead th {\n",
       "        text-align: right;\n",
       "    }\n",
       "</style>\n",
       "<table border=\"1\" class=\"dataframe\">\n",
       "  <thead>\n",
       "    <tr style=\"text-align: right;\">\n",
       "      <th></th>\n",
       "      <th>show_id</th>\n",
       "      <th>type</th>\n",
       "      <th>title</th>\n",
       "      <th>director</th>\n",
       "      <th>cast</th>\n",
       "      <th>country</th>\n",
       "      <th>date_added</th>\n",
       "      <th>release_year</th>\n",
       "      <th>rating</th>\n",
       "      <th>duration</th>\n",
       "      <th>listed_in</th>\n",
       "      <th>description</th>\n",
       "      <th>rating_new</th>\n",
       "      <th>country_new</th>\n",
       "      <th>month_day</th>\n",
       "      <th>year</th>\n",
       "      <th>month</th>\n",
       "      <th>day</th>\n",
       "      <th>year_new</th>\n",
       "      <th>duration_new</th>\n",
       "      <th>minute_of_movies</th>\n",
       "    </tr>\n",
       "  </thead>\n",
       "  <tbody>\n",
       "    <tr>\n",
       "      <th>1067</th>\n",
       "      <td>s1068</td>\n",
       "      <td>TV Show</td>\n",
       "      <td>The Underclass</td>\n",
       "      <td>Pass Patthanakumjon</td>\n",
       "      <td>Nannaphas Loetnamchoetsakun, Praewa Suthamphon...</td>\n",
       "      <td>Thailand</td>\n",
       "      <td>April 14, 2021</td>\n",
       "      <td>2020</td>\n",
       "      <td>TV-MA</td>\n",
       "      <td>1 Season</td>\n",
       "      <td>International TV Shows, TV Dramas, Teen TV Shows</td>\n",
       "      <td>After getting dropped from an elite program, a...</td>\n",
       "      <td>TV-MA</td>\n",
       "      <td>Thailand</td>\n",
       "      <td>April 14</td>\n",
       "      <td>2021</td>\n",
       "      <td>April</td>\n",
       "      <td>14</td>\n",
       "      <td>2021</td>\n",
       "      <td>1.0</td>\n",
       "      <td>100.0</td>\n",
       "    </tr>\n",
       "    <tr>\n",
       "      <th>3247</th>\n",
       "      <td>s3248</td>\n",
       "      <td>TV Show</td>\n",
       "      <td>Trolls: The Beat Goes On!</td>\n",
       "      <td>NaN</td>\n",
       "      <td>Amanda Leighton, Skylar Astin, Ron Funches, Da...</td>\n",
       "      <td>United States</td>\n",
       "      <td>November 22, 2019</td>\n",
       "      <td>2019</td>\n",
       "      <td>TV-Y7</td>\n",
       "      <td>8 Seasons</td>\n",
       "      <td>Kids' TV, TV Comedies</td>\n",
       "      <td>As Queen Poppy welcomes a new time of peace in...</td>\n",
       "      <td>TV-Y7</td>\n",
       "      <td>United States</td>\n",
       "      <td>November 22</td>\n",
       "      <td>2019</td>\n",
       "      <td>November</td>\n",
       "      <td>22</td>\n",
       "      <td>2019</td>\n",
       "      <td>1.0</td>\n",
       "      <td>800.0</td>\n",
       "    </tr>\n",
       "    <tr>\n",
       "      <th>6065</th>\n",
       "      <td>s6066</td>\n",
       "      <td>Movie</td>\n",
       "      <td>A Wrinkle in Time</td>\n",
       "      <td>Ava DuVernay</td>\n",
       "      <td>Storm Reid, Oprah Winfrey, Reese Witherspoon, ...</td>\n",
       "      <td>United States</td>\n",
       "      <td>September 25, 2018</td>\n",
       "      <td>2018</td>\n",
       "      <td>PG</td>\n",
       "      <td>110 min</td>\n",
       "      <td>Children &amp; Family Movies</td>\n",
       "      <td>Years after their father disappears, Meg and h...</td>\n",
       "      <td>PG</td>\n",
       "      <td>United States</td>\n",
       "      <td>September 25</td>\n",
       "      <td>2018</td>\n",
       "      <td>September</td>\n",
       "      <td>25</td>\n",
       "      <td>2018</td>\n",
       "      <td>0.0</td>\n",
       "      <td>110.0</td>\n",
       "    </tr>\n",
       "    <tr>\n",
       "      <th>4793</th>\n",
       "      <td>s4794</td>\n",
       "      <td>Movie</td>\n",
       "      <td>Deewana Main Deewana</td>\n",
       "      <td>K.C. Bokadia</td>\n",
       "      <td>Govinda, Priyanka Chopra, Kader Khan, Prem Cho...</td>\n",
       "      <td>India</td>\n",
       "      <td>July 1, 2018</td>\n",
       "      <td>2013</td>\n",
       "      <td>TV-14</td>\n",
       "      <td>107 min</td>\n",
       "      <td>Comedies, Dramas, International Movies</td>\n",
       "      <td>A man's instant attraction to a woman becomes ...</td>\n",
       "      <td>TV-14</td>\n",
       "      <td>India</td>\n",
       "      <td>July 1</td>\n",
       "      <td>2018</td>\n",
       "      <td>July</td>\n",
       "      <td>1</td>\n",
       "      <td>2018</td>\n",
       "      <td>0.0</td>\n",
       "      <td>107.0</td>\n",
       "    </tr>\n",
       "    <tr>\n",
       "      <th>6583</th>\n",
       "      <td>s6584</td>\n",
       "      <td>Movie</td>\n",
       "      <td>Death at a Funeral</td>\n",
       "      <td>Neil LaBute</td>\n",
       "      <td>Chris Rock, Martin Lawrence, Tracy Morgan, Dan...</td>\n",
       "      <td>United States</td>\n",
       "      <td>August 1, 2020</td>\n",
       "      <td>2010</td>\n",
       "      <td>R</td>\n",
       "      <td>93 min</td>\n",
       "      <td>Comedies</td>\n",
       "      <td>When a Los Angeles family's patriarch dies, hi...</td>\n",
       "      <td>R</td>\n",
       "      <td>United States</td>\n",
       "      <td>August 1</td>\n",
       "      <td>2020</td>\n",
       "      <td>August</td>\n",
       "      <td>1</td>\n",
       "      <td>2020</td>\n",
       "      <td>0.0</td>\n",
       "      <td>93.0</td>\n",
       "    </tr>\n",
       "  </tbody>\n",
       "</table>\n",
       "</div>"
      ],
      "text/plain": [
       "     show_id     type                      title             director  \\\n",
       "1067   s1068  TV Show             The Underclass  Pass Patthanakumjon   \n",
       "3247   s3248  TV Show  Trolls: The Beat Goes On!                  NaN   \n",
       "6065   s6066    Movie          A Wrinkle in Time         Ava DuVernay   \n",
       "4793   s4794    Movie       Deewana Main Deewana         K.C. Bokadia   \n",
       "6583   s6584    Movie         Death at a Funeral          Neil LaBute   \n",
       "\n",
       "                                                   cast        country  \\\n",
       "1067  Nannaphas Loetnamchoetsakun, Praewa Suthamphon...       Thailand   \n",
       "3247  Amanda Leighton, Skylar Astin, Ron Funches, Da...  United States   \n",
       "6065  Storm Reid, Oprah Winfrey, Reese Witherspoon, ...  United States   \n",
       "4793  Govinda, Priyanka Chopra, Kader Khan, Prem Cho...          India   \n",
       "6583  Chris Rock, Martin Lawrence, Tracy Morgan, Dan...  United States   \n",
       "\n",
       "              date_added  release_year rating   duration  \\\n",
       "1067      April 14, 2021          2020  TV-MA   1 Season   \n",
       "3247   November 22, 2019          2019  TV-Y7  8 Seasons   \n",
       "6065  September 25, 2018          2018     PG    110 min   \n",
       "4793        July 1, 2018          2013  TV-14    107 min   \n",
       "6583      August 1, 2020          2010      R     93 min   \n",
       "\n",
       "                                             listed_in  \\\n",
       "1067  International TV Shows, TV Dramas, Teen TV Shows   \n",
       "3247                             Kids' TV, TV Comedies   \n",
       "6065                          Children & Family Movies   \n",
       "4793            Comedies, Dramas, International Movies   \n",
       "6583                                          Comedies   \n",
       "\n",
       "                                            description rating_new  \\\n",
       "1067  After getting dropped from an elite program, a...      TV-MA   \n",
       "3247  As Queen Poppy welcomes a new time of peace in...      TV-Y7   \n",
       "6065  Years after their father disappears, Meg and h...         PG   \n",
       "4793  A man's instant attraction to a woman becomes ...      TV-14   \n",
       "6583  When a Los Angeles family's patriarch dies, hi...          R   \n",
       "\n",
       "        country_new     month_day   year      month day year_new  \\\n",
       "1067       Thailand      April 14   2021      April  14     2021   \n",
       "3247  United States   November 22   2019   November  22     2019   \n",
       "6065  United States  September 25   2018  September  25     2018   \n",
       "4793          India        July 1   2018       July   1     2018   \n",
       "6583  United States      August 1   2020     August   1     2020   \n",
       "\n",
       "      duration_new  minute_of_movies  \n",
       "1067           1.0             100.0  \n",
       "3247           1.0             800.0  \n",
       "6065           0.0             110.0  \n",
       "4793           0.0             107.0  \n",
       "6583           0.0              93.0  "
      ]
     },
     "execution_count": 366,
     "metadata": {},
     "output_type": "execute_result"
    }
   ],
   "source": [
    "df.sample(5)"
   ]
  },
  {
   "cell_type": "code",
   "execution_count": 346,
   "id": "f3fa6bef",
   "metadata": {
    "ExecuteTime": {
     "end_time": "2023-08-18T12:26:34.194315Z",
     "start_time": "2023-08-18T12:26:34.185339Z"
    }
   },
   "outputs": [],
   "source": [
    "df.minute_of_movies = df.minute_of_movies.astype(\"int\")"
   ]
  },
  {
   "cell_type": "raw",
   "id": "bc6a3e2f",
   "metadata": {
    "ExecuteTime": {
     "end_time": "2023-08-18T12:27:00.039288Z",
     "start_time": "2023-08-18T12:27:00.030280Z"
    }
   },
   "source": [
    "0 olanlar hariç diğerlerinin mean al season1 için ortalama dk olarak kaydet"
   ]
  },
  {
   "cell_type": "code",
   "execution_count": 351,
   "id": "592bb103",
   "metadata": {
    "ExecuteTime": {
     "end_time": "2023-08-18T12:30:43.015122Z",
     "start_time": "2023-08-18T12:30:42.989844Z"
    }
   },
   "outputs": [
    {
     "data": {
      "text/plain": [
       "99.56499755341706"
      ]
     },
     "execution_count": 351,
     "metadata": {},
     "output_type": "execute_result"
    }
   ],
   "source": [
    "df[df[\"minute_of_movies\"] != 0][\"minute_of_movies\"].mean()"
   ]
  },
  {
   "cell_type": "code",
   "execution_count": 358,
   "id": "34e1d5c3",
   "metadata": {
    "ExecuteTime": {
     "end_time": "2023-08-18T12:35:27.330122Z",
     "start_time": "2023-08-18T12:35:27.313167Z"
    }
   },
   "outputs": [
    {
     "data": {
      "text/plain": [
       "1 Season      1793\n",
       "2 Seasons      425\n",
       "3 Seasons      199\n",
       "4 Seasons       95\n",
       "5 Seasons       65\n",
       "6 Seasons       33\n",
       "7 Seasons       23\n",
       "8 Seasons       17\n",
       "9 Seasons        9\n",
       "10 Seasons       7\n",
       "13 Seasons       3\n",
       "15 Seasons       2\n",
       "12 Seasons       2\n",
       "11 Seasons       2\n",
       "17 Seasons       1\n",
       "Name: duration, dtype: int64"
      ]
     },
     "execution_count": 358,
     "metadata": {},
     "output_type": "execute_result"
    }
   ],
   "source": [
    "df[df[\"type\"] == \"TV Show\"][\"duration\"].value_counts()"
   ]
  },
  {
   "cell_type": "code",
   "execution_count": 365,
   "id": "4e5790b6",
   "metadata": {
    "ExecuteTime": {
     "end_time": "2023-08-18T12:39:33.880224Z",
     "start_time": "2023-08-18T12:39:33.848657Z"
    }
   },
   "outputs": [],
   "source": [
    "df.loc[df[\"duration\"] == \"1 Season\", \"minute_of_movies\"] = 100\n",
    "df.loc[df[\"duration\"] == \"2 Seasons\", \"minute_of_movies\"] = 200\n",
    "df.loc[df[\"duration\"] == \"3 Seasons\", \"minute_of_movies\"] = 300\n",
    "df.loc[df[\"duration\"] == \"4 Seasons\", \"minute_of_movies\"] = 400\n",
    "df.loc[df[\"duration\"] == \"5 Seasons\", \"minute_of_movies\"] = 500\n",
    "df.loc[df[\"duration\"] == \"6 Seasons\", \"minute_of_movies\"] = 600\n",
    "df.loc[df[\"duration\"] == \"7 Seasons\", \"minute_of_movies\"] = 700\n",
    "df.loc[df[\"duration\"] == \"8 Seasons\", \"minute_of_movies\"] = 800\n",
    "df.loc[df[\"duration\"] == \"9 Seasons\", \"minute_of_movies\"] = 900\n",
    "df.loc[df[\"duration\"] == \"10 Seasons\", \"minute_of_movies\"] = 1000\n",
    "df.loc[df[\"duration\"] == \"13 Seasons\", \"minute_of_movies\"] = 1300\n",
    "df.loc[df[\"duration\"] == \"15 Seasons\", \"minute_of_movies\"] = 1500\n",
    "df.loc[df[\"duration\"] == \"12 Seasons\", \"minute_of_movies\"] = 1200\n",
    "df.loc[df[\"duration\"] == \"11 Seasons\", \"minute_of_movies\"] = 1100\n",
    "df.loc[df[\"duration\"] == \"17 Seasons\", \"minute_of_movies\"] = 1700"
   ]
  },
  {
   "cell_type": "code",
   "execution_count": 367,
   "id": "d7fb395c",
   "metadata": {
    "ExecuteTime": {
     "end_time": "2023-08-18T12:41:21.523760Z",
     "start_time": "2023-08-18T12:41:21.403601Z"
    }
   },
   "outputs": [
    {
     "data": {
      "text/plain": [
       "<AxesSubplot:xlabel='type', ylabel='minute_of_movies'>"
      ]
     },
     "execution_count": 367,
     "metadata": {},
     "output_type": "execute_result"
    },
    {
     "data": {
      "image/png": "[encoded data removed]",
      "text/plain": [
       "<Figure size 432x288 with 1 Axes>"
      ]
     },
     "metadata": {
      "needs_background": "light"
     },
     "output_type": "display_data"
    }
   ],
   "source": [
    "sns.boxplot(x=\"type\", y=\"minute_of_movies\", data=df)"
   ]
  },
  {
   "cell_type": "code",
   "execution_count": 369,
   "id": "94bbd2b8",
   "metadata": {
    "ExecuteTime": {
     "end_time": "2023-08-18T13:14:35.062386Z",
     "start_time": "2023-08-18T13:14:35.050339Z"
    }
   },
   "outputs": [
    {
     "data": {
      "text/plain": [
       "TV-MA    3207\n",
       "TV-14    2160\n",
       "TV-PG     863\n",
       "R         799\n",
       "PG-13     490\n",
       "TV-Y7     334\n",
       "TV-Y      307\n",
       "PG        287\n",
       "TV-G      220\n",
       "Other     136\n",
       "Name: rating_new, dtype: int64"
      ]
     },
     "execution_count": 369,
     "metadata": {},
     "output_type": "execute_result"
    }
   ],
   "source": [
    "df['rating_new'].value_counts()\n",
    "\n",
    "#14 yaş üstü uygun TV-14\n",
    "#7 yaş üstü uygun TV-PG\n",
    "#13 yaş üstü uygun PG-13\n",
    "#7 yaş üstü uygun TV-Y7\n",
    "#tüm çocuklar için uygun TV-Y\n",
    "#7 yaş üstü uygun PG\n",
    "#tüm çocuklar için uygun TV-G"
   ]
  },
  {
   "cell_type": "code",
   "execution_count": 378,
   "id": "a8334717",
   "metadata": {
    "ExecuteTime": {
     "end_time": "2023-08-18T13:24:28.946993Z",
     "start_time": "2023-08-18T13:24:28.926812Z"
    }
   },
   "outputs": [],
   "source": [
    "df.loc[(df[\"rating_new\"] == \"TV-MA\") | (df[\"rating_new\"] == \"R\"), \"rating_new2\"] = 0\n",
    "df.loc[(df[\"rating_new\"] == \"TV-Y\") | (df[\"rating_new\"] == \"TV-G\"), \"rating_new2\"] = 1\n",
    "df.loc[(df[\"rating_new\"] == \"TV-PG\") | (df[\"rating_new\"] == \"TV-Y7\") | (df[\"rating_new\"] == \"PG\"), \"rating_new2\"] = 2\n",
    "df.loc[(df[\"rating_new\"] == \"PG-13\"), \"rating_new2\"] = 3\n",
    "df.loc[(df[\"rating_new\"] == \"TV-14\"), \"rating_new2\"] = 4\n",
    "df.loc[(df[\"rating_new\"] == \"Other\"), \"rating_new2\"] = 5"
   ]
  },
  {
   "cell_type": "code",
   "execution_count": 379,
   "id": "334852a6",
   "metadata": {
    "ExecuteTime": {
     "end_time": "2023-08-18T13:24:36.259034Z",
     "start_time": "2023-08-18T13:24:36.232503Z"
    }
   },
   "outputs": [
    {
     "data": {
      "text/html": [
       "<div>\n",
       "<style scoped>\n",
       "    .dataframe tbody tr th:only-of-type {\n",
       "        vertical-align: middle;\n",
       "    }\n",
       "\n",
       "    .dataframe tbody tr th {\n",
       "        vertical-align: top;\n",
       "    }\n",
       "\n",
       "    .dataframe thead th {\n",
       "        text-align: right;\n",
       "    }\n",
       "</style>\n",
       "<table border=\"1\" class=\"dataframe\">\n",
       "  <thead>\n",
       "    <tr style=\"text-align: right;\">\n",
       "      <th></th>\n",
       "      <th>show_id</th>\n",
       "      <th>type</th>\n",
       "      <th>title</th>\n",
       "      <th>director</th>\n",
       "      <th>cast</th>\n",
       "      <th>country</th>\n",
       "      <th>date_added</th>\n",
       "      <th>release_year</th>\n",
       "      <th>rating</th>\n",
       "      <th>duration</th>\n",
       "      <th>listed_in</th>\n",
       "      <th>description</th>\n",
       "      <th>rating_new</th>\n",
       "      <th>country_new</th>\n",
       "      <th>month_day</th>\n",
       "      <th>year</th>\n",
       "      <th>month</th>\n",
       "      <th>day</th>\n",
       "      <th>year_new</th>\n",
       "      <th>duration_new</th>\n",
       "      <th>minute_of_movies</th>\n",
       "      <th>rating_new2</th>\n",
       "    </tr>\n",
       "  </thead>\n",
       "  <tbody>\n",
       "    <tr>\n",
       "      <th>5305</th>\n",
       "      <td>s5306</td>\n",
       "      <td>TV Show</td>\n",
       "      <td>Narcos</td>\n",
       "      <td>NaN</td>\n",
       "      <td>Wagner Moura, Pedro Pascal, Boyd Holbrook, Dam...</td>\n",
       "      <td>United States, Colombia, Mexico</td>\n",
       "      <td>September 1, 2017</td>\n",
       "      <td>2017</td>\n",
       "      <td>TV-MA</td>\n",
       "      <td>3 Seasons</td>\n",
       "      <td>Crime TV Shows, TV Action &amp; Adventure, TV Dramas</td>\n",
       "      <td>The true story of Colombia's infamously violen...</td>\n",
       "      <td>TV-MA</td>\n",
       "      <td>Other</td>\n",
       "      <td>September 1</td>\n",
       "      <td>2017</td>\n",
       "      <td>September</td>\n",
       "      <td>1</td>\n",
       "      <td>2017</td>\n",
       "      <td>1.0</td>\n",
       "      <td>300.0</td>\n",
       "      <td>0.0</td>\n",
       "    </tr>\n",
       "    <tr>\n",
       "      <th>728</th>\n",
       "      <td>s729</td>\n",
       "      <td>Movie</td>\n",
       "      <td>The Devil Below</td>\n",
       "      <td>Bradley Parker</td>\n",
       "      <td>Alicia Sanz, Will Patton, Jonathan Sadowski, A...</td>\n",
       "      <td>United States</td>\n",
       "      <td>June 13, 2021</td>\n",
       "      <td>2021</td>\n",
       "      <td>TV-MA</td>\n",
       "      <td>89 min</td>\n",
       "      <td>Horror Movies</td>\n",
       "      <td>When a team of researchers tries to find out w...</td>\n",
       "      <td>TV-MA</td>\n",
       "      <td>United States</td>\n",
       "      <td>June 13</td>\n",
       "      <td>2021</td>\n",
       "      <td>June</td>\n",
       "      <td>13</td>\n",
       "      <td>2021</td>\n",
       "      <td>0.0</td>\n",
       "      <td>89.0</td>\n",
       "      <td>0.0</td>\n",
       "    </tr>\n",
       "    <tr>\n",
       "      <th>8551</th>\n",
       "      <td>s8552</td>\n",
       "      <td>TV Show</td>\n",
       "      <td>The War: A Film by Ken Burns and Lynn Novick</td>\n",
       "      <td>NaN</td>\n",
       "      <td>Keith David</td>\n",
       "      <td>United States</td>\n",
       "      <td>February 22, 2017</td>\n",
       "      <td>2007</td>\n",
       "      <td>TV-14</td>\n",
       "      <td>1 Season</td>\n",
       "      <td>Docuseries</td>\n",
       "      <td>A seven-part series brings World War II to lif...</td>\n",
       "      <td>TV-14</td>\n",
       "      <td>United States</td>\n",
       "      <td>February 22</td>\n",
       "      <td>2017</td>\n",
       "      <td>February</td>\n",
       "      <td>22</td>\n",
       "      <td>2017</td>\n",
       "      <td>1.0</td>\n",
       "      <td>100.0</td>\n",
       "      <td>4.0</td>\n",
       "    </tr>\n",
       "    <tr>\n",
       "      <th>6836</th>\n",
       "      <td>s6837</td>\n",
       "      <td>TV Show</td>\n",
       "      <td>Gentlemen and Gangsters</td>\n",
       "      <td>NaN</td>\n",
       "      <td>David Dencik, Ruth Vega Fernandez, David Fukam...</td>\n",
       "      <td>Sweden</td>\n",
       "      <td>June 1, 2016</td>\n",
       "      <td>2016</td>\n",
       "      <td>TV-MA</td>\n",
       "      <td>1 Season</td>\n",
       "      <td>Crime TV Shows, International TV Shows, Romant...</td>\n",
       "      <td>Now on the run, a writer relates his previous ...</td>\n",
       "      <td>TV-MA</td>\n",
       "      <td>Other</td>\n",
       "      <td>June 1</td>\n",
       "      <td>2016</td>\n",
       "      <td>June</td>\n",
       "      <td>1</td>\n",
       "      <td>2016</td>\n",
       "      <td>1.0</td>\n",
       "      <td>100.0</td>\n",
       "      <td>0.0</td>\n",
       "    </tr>\n",
       "    <tr>\n",
       "      <th>3792</th>\n",
       "      <td>s3793</td>\n",
       "      <td>TV Show</td>\n",
       "      <td>When They See Us</td>\n",
       "      <td>NaN</td>\n",
       "      <td>Asante Blackk, Caleel Harris, Ethan Herisse, J...</td>\n",
       "      <td>United States</td>\n",
       "      <td>May 31, 2019</td>\n",
       "      <td>2019</td>\n",
       "      <td>TV-MA</td>\n",
       "      <td>1 Season</td>\n",
       "      <td>Crime TV Shows, TV Dramas</td>\n",
       "      <td>Five teens from Harlem become trapped in a nig...</td>\n",
       "      <td>TV-MA</td>\n",
       "      <td>United States</td>\n",
       "      <td>May 31</td>\n",
       "      <td>2019</td>\n",
       "      <td>May</td>\n",
       "      <td>31</td>\n",
       "      <td>2019</td>\n",
       "      <td>1.0</td>\n",
       "      <td>100.0</td>\n",
       "      <td>0.0</td>\n",
       "    </tr>\n",
       "  </tbody>\n",
       "</table>\n",
       "</div>"
      ],
      "text/plain": [
       "     show_id     type                                         title  \\\n",
       "5305   s5306  TV Show                                        Narcos   \n",
       "728     s729    Movie                               The Devil Below   \n",
       "8551   s8552  TV Show  The War: A Film by Ken Burns and Lynn Novick   \n",
       "6836   s6837  TV Show                       Gentlemen and Gangsters   \n",
       "3792   s3793  TV Show                              When They See Us   \n",
       "\n",
       "            director                                               cast  \\\n",
       "5305             NaN  Wagner Moura, Pedro Pascal, Boyd Holbrook, Dam...   \n",
       "728   Bradley Parker  Alicia Sanz, Will Patton, Jonathan Sadowski, A...   \n",
       "8551             NaN                                        Keith David   \n",
       "6836             NaN  David Dencik, Ruth Vega Fernandez, David Fukam...   \n",
       "3792             NaN  Asante Blackk, Caleel Harris, Ethan Herisse, J...   \n",
       "\n",
       "                              country         date_added  release_year rating  \\\n",
       "5305  United States, Colombia, Mexico  September 1, 2017          2017  TV-MA   \n",
       "728                     United States      June 13, 2021          2021  TV-MA   \n",
       "8551                    United States  February 22, 2017          2007  TV-14   \n",
       "6836                           Sweden       June 1, 2016          2016  TV-MA   \n",
       "3792                    United States       May 31, 2019          2019  TV-MA   \n",
       "\n",
       "       duration                                          listed_in  \\\n",
       "5305  3 Seasons   Crime TV Shows, TV Action & Adventure, TV Dramas   \n",
       "728      89 min                                      Horror Movies   \n",
       "8551   1 Season                                         Docuseries   \n",
       "6836   1 Season  Crime TV Shows, International TV Shows, Romant...   \n",
       "3792   1 Season                          Crime TV Shows, TV Dramas   \n",
       "\n",
       "                                            description rating_new  \\\n",
       "5305  The true story of Colombia's infamously violen...      TV-MA   \n",
       "728   When a team of researchers tries to find out w...      TV-MA   \n",
       "8551  A seven-part series brings World War II to lif...      TV-14   \n",
       "6836  Now on the run, a writer relates his previous ...      TV-MA   \n",
       "3792  Five teens from Harlem become trapped in a nig...      TV-MA   \n",
       "\n",
       "        country_new    month_day   year      month day year_new  duration_new  \\\n",
       "5305          Other  September 1   2017  September   1     2017           1.0   \n",
       "728   United States      June 13   2021       June  13     2021           0.0   \n",
       "8551  United States  February 22   2017   February  22     2017           1.0   \n",
       "6836          Other       June 1   2016       June   1     2016           1.0   \n",
       "3792  United States       May 31   2019        May  31     2019           1.0   \n",
       "\n",
       "      minute_of_movies  rating_new2  \n",
       "5305             300.0          0.0  \n",
       "728               89.0          0.0  \n",
       "8551             100.0          4.0  \n",
       "6836             100.0          0.0  \n",
       "3792             100.0          0.0  "
      ]
     },
     "execution_count": 379,
     "metadata": {},
     "output_type": "execute_result"
    }
   ],
   "source": [
    "df.sample(5)"
   ]
  },
  {
   "cell_type": "code",
   "execution_count": 418,
   "id": "33bdfb64",
   "metadata": {
    "ExecuteTime": {
     "end_time": "2023-08-19T06:44:16.335538Z",
     "start_time": "2023-08-19T06:44:16.308292Z"
    }
   },
   "outputs": [
    {
     "data": {
      "text/plain": [
       "Dramas, International Movies                                                       362\n",
       "Documentaries                                                                      359\n",
       "Stand-Up Comedy                                                                    334\n",
       "Comedies, Dramas, International Movies                                             274\n",
       "Dramas, Independent Movies, International Movies                                   252\n",
       "Kids' TV                                                                           220\n",
       "Children & Family Movies                                                           215\n",
       "Children & Family Movies, Comedies                                                 201\n",
       "Documentaries, International Movies                                                186\n",
       "Dramas, International Movies, Romantic Movies                                      180\n",
       "Comedies, International Movies                                                     176\n",
       "Comedies, International Movies, Romantic Movies                                    152\n",
       "Dramas                                                                             138\n",
       "Dramas, International Movies, Thrillers                                            134\n",
       "Action & Adventure, Dramas, International Movies                                   132\n",
       "Action & Adventure                                                                 128\n",
       "International TV Shows, TV Dramas                                                  121\n",
       "Comedies, Dramas, Independent Movies                                               116\n",
       "Crime TV Shows, International TV Shows, TV Dramas                                  110\n",
       "Comedies                                                                           110\n",
       "Action & Adventure, International Movies                                           101\n",
       "Dramas, Independent Movies                                                         100\n",
       "Kids' TV, TV Comedies                                                               99\n",
       "Reality TV                                                                          95\n",
       "International TV Shows, Romantic TV Shows, TV Comedies                              94\n",
       "International TV Shows, Romantic TV Shows, TV Dramas                                90\n",
       "Anime Series, International TV Shows                                                88\n",
       "Docuseries                                                                          85\n",
       "Dramas, Thrillers                                                                   82\n",
       "Documentaries, Music & Musicals                                                     82\n",
       "Comedies, Romantic Movies                                                           80\n",
       "Action & Adventure, Comedies, International Movies                                  70\n",
       "TV Comedies                                                                         69\n",
       "International Movies, Thrillers                                                     67\n",
       "Thrillers                                                                           65\n",
       "International TV Shows, Korean TV Shows, Romantic TV Shows                          65\n",
       "Documentaries, Sports Movies                                                        65\n",
       "Crime TV Shows, International TV Shows, Spanish-Language TV Shows                   62\n",
       "Action & Adventure, Sci-Fi & Fantasy                                                62\n",
       "Movies                                                                              57\n",
       "Horror Movies, International Movies                                                 57\n",
       "Dramas, International Movies, Music & Musicals                                      57\n",
       "Horror Movies                                                                       55\n",
       "Comedies, International Movies, Music & Musicals                                    55\n",
       "Horror Movies, Thrillers                                                            54\n",
       "Dramas, Romantic Movies                                                             52\n",
       "Action & Adventure, Comedies                                                        51\n",
       "Crime TV Shows, Docuseries                                                          50\n",
       "Horror Movies, International Movies, Thrillers                                      45\n",
       "Documentaries, International Movies, Sports Movies                                  44\n",
       "Documentaries, International Movies, Music & Musicals                               41\n",
       "International TV Shows, TV Comedies, TV Dramas                                      40\n",
       "Action & Adventure, Anime Features, International Movies                            38\n",
       "International TV Shows, Reality TV                                                  38\n",
       "Docuseries, Science & Nature TV                                                     38\n",
       "TV Dramas                                                                           35\n",
       "International TV Shows, TV Comedies                                                 35\n",
       "Action & Adventure, Dramas                                                          34\n",
       "Docuseries, International TV Shows                                                  33\n",
       "Dramas, Independent Movies, Thrillers                                               31\n",
       "British TV Shows, Docuseries, International TV Shows                                30\n",
       "TV Comedies, TV Dramas                                                              30\n",
       "Children & Family Movies, Dramas                                                    29\n",
       "Comedies, Dramas                                                                    29\n",
       "Crime TV Shows, Docuseries, International TV Shows                                  28\n",
       "British TV Shows, International TV Shows, Reality TV                                27\n",
       "Stand-Up Comedy & Talk Shows, TV Comedies                                           27\n",
       "Action & Adventure, Comedies, Dramas                                                27\n",
       "International TV Shows, TV Dramas, TV Mysteries                                     26\n",
       "International TV Shows, Spanish-Language TV Shows, TV Dramas                        26\n",
       "Dramas, International Movies, Sports Movies                                         25\n",
       "British TV Shows, Docuseries, Science & Nature TV                                   25\n",
       "British TV Shows, Crime TV Shows, International TV Shows                            25\n",
       "Comedies, Independent Movies                                                        25\n",
       "Dramas, Independent Movies, Romantic Movies                                         24\n",
       "International TV Shows, Romantic TV Shows, Spanish-Language TV Shows                23\n",
       "Anime Series, Kids' TV                                                              23\n",
       "Comedies, Independent Movies, International Movies                                  22\n",
       "Documentaries, LGBTQ Movies                                                         22\n",
       "International TV Shows, TV Action & Adventure, TV Dramas                            21\n",
       "British TV Shows, Crime TV Shows, Docuseries                                        21\n",
       "Children & Family Movies, Music & Musicals                                          20\n",
       "British TV Shows, Kids' TV                                                          20\n",
       "Crime TV Shows, International TV Shows, Korean TV Shows                             20\n",
       "Comedies, Dramas, Romantic Movies                                                   19\n",
       "Kids' TV, Korean TV Shows                                                           19\n",
       "Dramas, Sports Movies                                                               19\n",
       "Horror Movies, Independent Movies                                                   18\n",
       "International TV Shows, Korean TV Shows, TV Dramas                                  18\n",
       "Dramas, Faith & Spirituality                                                        18\n",
       "Crime TV Shows, International TV Shows, TV Action & Adventure                       18\n",
       "International Movies, Romantic Movies                                               18\n",
       "International TV Shows, Spanish-Language TV Shows, TV Comedies                      17\n",
       "Dramas, Independent Movies, LGBTQ Movies                                            17\n",
       "British TV Shows, International TV Shows, TV Comedies                               17\n",
       "Crime TV Shows, TV Dramas, TV Mysteries                                             17\n",
       "Classic Movies, Dramas, International Movies                                        16\n",
       "Children & Family Movies, Comedies, Dramas                                          16\n",
       "Action & Adventure, International Movies, Sci-Fi & Fantasy                          16\n",
       "Crime TV Shows, TV Dramas                                                           16\n",
       "TV Shows                                                                            16\n",
       "Horror Movies, Independent Movies, Thrillers                                        16\n",
       "Docuseries, Reality TV                                                              16\n",
       "Children & Family Movies, Comedies, Music & Musicals                                15\n",
       "Comedies, Horror Movies, International Movies                                       15\n",
       "International TV Shows, TV Dramas, TV Horror                                        15\n",
       "British TV Shows, International TV Shows, TV Dramas                                 14\n",
       "Dramas, International Movies, Sci-Fi & Fantasy                                      13\n",
       "International TV Shows, TV Dramas, Teen TV Shows                                    13\n",
       "Docuseries, International TV Shows, Science & Nature TV                             13\n",
       "Dramas, International Movies, LGBTQ Movies                                          12\n",
       "Action & Adventure, Dramas, Independent Movies                                      12\n",
       "Sci-Fi & Fantasy, Thrillers                                                         12\n",
       "British TV Shows, Docuseries                                                        12\n",
       "International TV Shows, TV Dramas, TV Thrillers                                     12\n",
       "Dramas, Faith & Spirituality, International Movies                                  12\n",
       "Comedies, Cult Movies                                                               12\n",
       "Comedies, Horror Movies                                                             12\n",
       "Romantic TV Shows, TV Comedies, TV Dramas                                           11\n",
       "Classic Movies, Documentaries                                                       11\n",
       "British TV Shows, TV Comedies                                                       11\n",
       "Anime Series, Crime TV Shows, International TV Shows                                11\n",
       "Action & Adventure, Horror Movies, Sci-Fi & Fantasy                                 11\n",
       "Children & Family Movies, Comedies, Sci-Fi & Fantasy                                11\n",
       "Reality TV, Romantic TV Shows                                                       11\n",
       "Children & Family Movies, Dramas, International Movies                              11\n",
       "Action & Adventure, International Movies, Music & Musicals                          11\n",
       "Classic Movies, Dramas                                                              11\n",
       "Independent Movies, Thrillers                                                       11\n",
       "International Movies, Music & Musicals                                              11\n",
       "Crime TV Shows, TV Action & Adventure, TV Dramas                                    11\n",
       "Crime TV Shows, International TV Shows, TV Comedies                                 10\n",
       "International TV Shows, Reality TV, Spanish-Language TV Shows                       10\n",
       "Kids' TV, TV Action & Adventure, TV Sci-Fi & Fantasy                                10\n",
       "Anime Series                                                                        10\n",
       "Music & Musicals                                                                    10\n",
       "TV Action & Adventure, TV Dramas, TV Sci-Fi & Fantasy                               10\n",
       "Horror Movies, Independent Movies, International Movies                             10\n",
       "International Movies, Sci-Fi & Fantasy, Thrillers                                    9\n",
       "TV Action & Adventure, TV Sci-Fi & Fantasy                                           9\n",
       "International TV Shows, TV Horror, TV Mysteries                                      9\n",
       "Children & Family Movies, Documentaries                                              9\n",
       "Anime Series, International TV Shows, Teen TV Shows                                  9\n",
       "Children & Family Movies, Dramas, Sports Movies                                      9\n",
       "International TV Shows, Reality TV, Romantic TV Shows                                9\n",
       "Crime TV Shows, TV Comedies, TV Dramas                                               9\n",
       "Children & Family Movies, Dramas, Romantic Movies                                    9\n",
       "TV Dramas, TV Horror, TV Mysteries                                                   9\n",
       "Romantic TV Shows, TV Dramas                                                         9\n",
       "International TV Shows, Korean TV Shows, TV Comedies                                 9\n",
       "Classic Movies, Dramas, Independent Movies                                           9\n",
       "Anime Series, International TV Shows, Romantic TV Shows                              9\n",
       "Action & Adventure, Classic Movies, Dramas                                           9\n",
       "British TV Shows, Reality TV                                                         9\n",
       "Comedies, Independent Movies, Romantic Movies                                        8\n",
       "Comedies, Sports Movies                                                              8\n",
       "Dramas, Independent Movies, Sports Movies                                            8\n",
       "Comedies, International Movies, LGBTQ Movies                                         8\n",
       "Documentaries, Faith & Spirituality                                                  8\n",
       "Dramas, Independent Movies, Music & Musicals                                         8\n",
       "Children & Family Movies, Comedies, Romantic Movies                                  8\n",
       "Action & Adventure, Comedies, Sci-Fi & Fantasy                                       8\n",
       "Children & Family Movies, Sci-Fi & Fantasy                                           8\n",
       "Docuseries, International TV Shows, Spanish-Language TV Shows                        8\n",
       "International TV Shows, TV Dramas, TV Sci-Fi & Fantasy                               8\n",
       "Music & Musicals, Stand-Up Comedy                                                    7\n",
       "Dramas, Independent Movies, Sci-Fi & Fantasy                                         7\n",
       "Dramas, Music & Musicals                                                             7\n",
       "British TV Shows, International TV Shows, Romantic TV Shows                          7\n",
       "Dramas, LGBTQ Movies                                                                 7\n",
       "Action & Adventure, Comedies, Independent Movies                                     7\n",
       "British TV Shows, Kids' TV, TV Comedies                                              7\n",
       "Comedies, Music & Musicals                                                           7\n",
       "Action & Adventure, Independent Movies                                               7\n",
       "Crime TV Shows, TV Dramas, TV Thrillers                                              7\n",
       "International TV Shows, Stand-Up Comedy & Talk Shows, TV Comedies                    7\n",
       "Documentaries, International Movies, LGBTQ Movies                                    7\n",
       "Kids' TV, TV Action & Adventure, TV Comedies                                         7\n",
       "Crime TV Shows, International TV Shows, Romantic TV Shows                            7\n",
       "Anime Features, Children & Family Movies                                             7\n",
       "TV Comedies, TV Dramas, Teen TV Shows                                                7\n",
       "TV Comedies, Teen TV Shows                                                           6\n",
       "TV Dramas, Teen TV Shows                                                             6\n",
       "Children & Family Movies, Documentaries, International Movies                        6\n",
       "Action & Adventure, Documentaries, International Movies                              6\n",
       "Action & Adventure, Horror Movies                                                    6\n",
       "Comedies, International Movies, Sports Movies                                        6\n",
       "Comedies, Cult Movies, Dramas                                                        6\n",
       "Comedies, International Movies, Sci-Fi & Fantasy                                     6\n",
       "International TV Shows, Korean TV Shows, TV Action & Adventure                       6\n",
       "International Movies, Music & Musicals, Romantic Movies                              6\n",
       "International TV Shows, TV Action & Adventure, TV Comedies                           6\n",
       "Horror Movies, Sci-Fi & Fantasy, Thrillers                                           6\n",
       "International TV Shows, Korean TV Shows, Reality TV                                  6\n",
       "Action & Adventure, Children & Family Movies, Sci-Fi & Fantasy                       6\n",
       "Action & Adventure, International Movies, Romantic Movies                            6\n",
       "Stand-Up Comedy & Talk Shows                                                         6\n",
       "Children & Family Movies, Dramas, Faith & Spirituality                               6\n",
       "Dramas, Sci-Fi & Fantasy                                                             6\n",
       "TV Dramas, TV Mysteries, TV Sci-Fi & Fantasy                                         5\n",
       "Children & Family Movies, Comedies, International Movies                             5\n",
       "Anime Series, International TV Shows, TV Thrillers                                   5\n",
       "British TV Shows, International TV Shows, TV Action & Adventure                      5\n",
       "Docuseries, Reality TV, Science & Nature TV                                          5\n",
       "Dramas, Sci-Fi & Fantasy, Thrillers                                                  5\n",
       "Independent Movies, International Movies, Thrillers                                  5\n",
       "Action & Adventure, Children & Family Movies, Comedies                               5\n",
       "Comedies, Horror Movies, Independent Movies                                          5\n",
       "International TV Shows, Stand-Up Comedy & Talk Shows                                 5\n",
       "Action & Adventure, Independent Movies, Sci-Fi & Fantasy                             5\n",
       "Action & Adventure, Classic Movies                                                   5\n",
       "Comedies, International Movies, Thrillers                                            5\n",
       "TV Dramas, TV Thrillers                                                              5\n",
       "Kids' TV, TV Thrillers                                                               5\n",
       "Action & Adventure, Horror Movies, International Movies                              5\n",
       "Action & Adventure, Classic Movies, Cult Movies                                      5\n",
       "Action & Adventure, Cult Movies, International Movies                                5\n",
       "Dramas, Romantic Movies, Sci-Fi & Fantasy                                            5\n",
       "Docuseries, International TV Shows, Reality TV                                       5\n",
       "International TV Shows, Spanish-Language TV Shows, TV Action & Adventure             5\n",
       "Classic & Cult TV, TV Comedies                                                       5\n",
       "Cult Movies, Horror Movies                                                           5\n",
       "Children & Family Movies, Sports Movies                                              5\n",
       "Action & Adventure, Dramas, Sci-Fi & Fantasy                                         5\n",
       "Comedies, Independent Movies, LGBTQ Movies                                           5\n",
       "Dramas, Music & Musicals, Romantic Movies                                            5\n",
       "Action & Adventure, Children & Family Movies, Classic Movies                         4\n",
       "TV Horror, TV Mysteries, TV Sci-Fi & Fantasy                                         4\n",
       "International TV Shows, Romantic TV Shows, Teen TV Shows                             4\n",
       "Action & Adventure, Anime Features, Sci-Fi & Fantasy                                 4\n",
       "Comedies, Horror Movies, Sci-Fi & Fantasy                                            4\n",
       "Kids' TV, Spanish-Language TV Shows                                                  4\n",
       "Action & Adventure, Classic Movies, Comedies                                         4\n",
       "TV Action & Adventure, TV Dramas                                                     4\n",
       "Classic Movies, Comedies, Dramas                                                     4\n",
       "Comedies, Dramas, Music & Musicals                                                   4\n",
       "Crime TV Shows, TV Action & Adventure, TV Comedies                                   4\n",
       "Kids' TV, TV Comedies, TV Dramas                                                     4\n",
       "Action & Adventure, Thrillers                                                        4\n",
       "British TV Shows, Crime TV Shows, TV Dramas                                          4\n",
       "Comedies, Dramas, LGBTQ Movies                                                       4\n",
       "Classic & Cult TV, Crime TV Shows, International TV Shows                            4\n",
       "International Movies, Sci-Fi & Fantasy                                               4\n",
       "Kids' TV, Korean TV Shows, TV Comedies                                               4\n",
       "Action & Adventure, Comedies, Cult Movies                                            4\n",
       "International TV Shows, TV Action & Adventure, TV Sci-Fi & Fantasy                   4\n",
       "Crime TV Shows, Docuseries, TV Mysteries                                             4\n",
       "TV Horror, TV Mysteries, TV Thrillers                                                4\n",
       "Action & Adventure, Comedies, Romantic Movies                                        4\n",
       "Romantic TV Shows, TV Comedies                                                       4\n",
       "Action & Adventure, Anime Features, Children & Family Movies                         4\n",
       "Horror Movies, Sci-Fi & Fantasy                                                      4\n",
       "Reality TV, Teen TV Shows                                                            3\n",
       "Comedies, Cult Movies, Horror Movies                                                 3\n",
       "Kids' TV, TV Dramas                                                                  3\n",
       "Reality TV, TV Comedies                                                              3\n",
       "International Movies                                                                 3\n",
       "Anime Features, Children & Family Movies, International Movies                       3\n",
       "Classic Movies, Dramas, Romantic Movies                                              3\n",
       "Independent Movies, Sci-Fi & Fantasy, Thrillers                                      3\n",
       "Children & Family Movies, Classic Movies, Comedies                                   3\n",
       "Romantic Movies                                                                      3\n",
       "Horror Movies, Independent Movies, Sci-Fi & Fantasy                                  3\n",
       "Action & Adventure, Independent Movies, International Movies                         3\n",
       "Action & Adventure, Children & Family Movies, Dramas                                 3\n",
       "Comedies, Faith & Spirituality, International Movies                                 3\n",
       "International TV Shows, TV Horror, TV Thrillers                                      3\n",
       "Documentaries, Faith & Spirituality, International Movies                            3\n",
       "Action & Adventure, Cult Movies, Sci-Fi & Fantasy                                    3\n",
       "International TV Shows, Romantic TV Shows, TV Action & Adventure                     3\n",
       "Children & Family Movies, Dramas, Independent Movies                                 3\n",
       "International Movies, LGBTQ Movies, Romantic Movies                                  3\n",
       "Comedies, Cult Movies, International Movies                                          3\n",
       "Dramas, Romantic Movies, Sports Movies                                               3\n",
       "Action & Adventure, Dramas, Sports Movies                                            3\n",
       "Children & Family Movies, Comedies, Sports Movies                                    3\n",
       "Anime Series, International TV Shows, TV Horror                                      3\n",
       "Docuseries, Spanish-Language TV Shows                                                3\n",
       "Crime TV Shows, TV Action & Adventure                                                3\n",
       "Anime Series, Teen TV Shows                                                          3\n",
       "Anime Series, Romantic TV Shows, Teen TV Shows                                       3\n",
       "Classic Movies, Comedies, International Movies                                       3\n",
       "Anime Series, Crime TV Shows                                                         3\n",
       "TV Dramas, TV Sci-Fi & Fantasy                                                       3\n",
       "Comedies, Sci-Fi & Fantasy                                                           3\n",
       "TV Action & Adventure, TV Dramas, TV Horror                                          3\n",
       "TV Action & Adventure, TV Comedies, TV Horror                                        3\n",
       "International TV Shows, Korean TV Shows, Stand-Up Comedy & Talk Shows                3\n",
       "Docuseries, Stand-Up Comedy & Talk Shows                                             3\n",
       "International Movies, Music & Musicals, Thrillers                                    3\n",
       "Docuseries, TV Comedies                                                              3\n",
       "International TV Shows, Romantic TV Shows                                            3\n",
       "International TV Shows, TV Comedies, TV Sci-Fi & Fantasy                             3\n",
       "Action & Adventure, Romantic Movies                                                  3\n",
       "Classic Movies, Comedies, Cult Movies                                                3\n",
       "British TV Shows, Classic & Cult TV, International TV Shows                          3\n",
       "Children & Family Movies, Documentaries, Sports Movies                               2\n",
       "Comedies, Documentaries                                                              2\n",
       "Action & Adventure, International Movies, Sports Movies                              2\n",
       "Anime Series, TV Horror, TV Thrillers                                                2\n",
       "Action & Adventure, Horror Movies, Thrillers                                         2\n",
       "Crime TV Shows, TV Action & Adventure, TV Thrillers                                  2\n",
       "Comedies, LGBTQ Movies                                                               2\n",
       "Documentaries, Stand-Up Comedy                                                       2\n",
       "Comedies, Faith & Spirituality, Romantic Movies                                      2\n",
       "Comedies, Independent Movies, Thrillers                                              2\n",
       "Kids' TV, TV Action & Adventure                                                      2\n",
       "Crime TV Shows, Kids' TV, TV Comedies                                                2\n",
       "International TV Shows, Reality TV, TV Comedies                                      2\n",
       "Docuseries, TV Dramas                                                                2\n",
       "International TV Shows                                                               2\n",
       "Comedies, Dramas, Faith & Spirituality                                               2\n",
       "Classic Movies, Dramas, Music & Musicals                                             2\n",
       "British TV Shows, Classic & Cult TV, TV Comedies                                     2\n",
       "Horror Movies, International Movies, Romantic Movies                                 2\n",
       "Children & Family Movies, Dramas, Music & Musicals                                   2\n",
       "Crime TV Shows, Docuseries, Science & Nature TV                                      2\n",
       "Kids' TV, TV Sci-Fi & Fantasy                                                        2\n",
       "Children & Family Movies, Independent Movies                                         2\n",
       "Classic Movies, Cult Movies, Horror Movies                                           2\n",
       "Anime Features, Music & Musicals, Sci-Fi & Fantasy                                   2\n",
       "Classic Movies, Cult Movies, Dramas                                                  2\n",
       "Documentaries, LGBTQ Movies, Music & Musicals                                        2\n",
       "Documentaries, Dramas, International Movies                                          2\n",
       "Cult Movies, Horror Movies, Independent Movies                                       2\n",
       "Crime TV Shows, Romantic TV Shows, TV Dramas                                         2\n",
       "TV Comedies, TV Sci-Fi & Fantasy                                                     2\n",
       "Anime Features, International Movies, Romantic Movies                                2\n",
       "Anime Series, Romantic TV Shows                                                      2\n",
       "Action & Adventure, Anime Features, Classic Movies                                   2\n",
       "Classic & Cult TV, TV Action & Adventure, TV Sci-Fi & Fantasy                        2\n",
       "Action & Adventure, Children & Family Movies                                         2\n",
       "International TV Shows, TV Action & Adventure, TV Mysteries                          2\n",
       "TV Dramas, TV Mysteries, TV Thrillers                                                2\n",
       "Action & Adventure, International Movies, Thrillers                                  2\n",
       "International TV Shows, TV Mysteries, TV Thrillers                                   2\n",
       "Action & Adventure, Dramas, Faith & Spirituality                                     2\n",
       "Spanish-Language TV Shows, TV Dramas                                                 2\n",
       "British TV Shows, Romantic TV Shows, TV Dramas                                       2\n",
       "TV Action & Adventure, TV Comedies, TV Sci-Fi & Fantasy                              2\n",
       "International TV Shows, Spanish-Language TV Shows, Stand-Up Comedy & Talk Shows      2\n",
       "Romantic TV Shows, TV Dramas, Teen TV Shows                                          2\n",
       "Dramas, Faith & Spirituality, Romantic Movies                                        2\n",
       "Crime TV Shows, Spanish-Language TV Shows, TV Action & Adventure                     2\n",
       "Kids' TV, TV Comedies, TV Sci-Fi & Fantasy                                           2\n",
       "TV Horror, Teen TV Shows                                                             2\n",
       "Dramas, Romantic Movies, Thrillers                                                   2\n",
       "British TV Shows, Kids' TV, TV Dramas                                                2\n",
       "Docuseries, Science & Nature TV, TV Action & Adventure                               2\n",
       "Classic Movies, Dramas, Sports Movies                                                2\n",
       "Reality TV, TV Comedies, TV Horror                                                   2\n",
       "Documentaries, LGBTQ Movies, Sports Movies                                           2\n",
       "TV Action & Adventure, TV Dramas, TV Mysteries                                       2\n",
       "Classic Movies, Comedies, Independent Movies                                         2\n",
       "Comedies, Cult Movies, Music & Musicals                                              2\n",
       "Action & Adventure, Sports Movies                                                    2\n",
       "Documentaries, Horror Movies                                                         2\n",
       "Classic & Cult TV, TV Action & Adventure, TV Horror                                  2\n",
       "Comedies, Music & Musicals, Romantic Movies                                          2\n",
       "Classic Movies, Comedies, Music & Musicals                                           2\n",
       "Kids' TV, TV Dramas, Teen TV Shows                                                   2\n",
       "Anime Features, International Movies                                                 2\n",
       "International Movies, Romantic Movies, Thrillers                                     2\n",
       "Horror Movies, LGBTQ Movies                                                          2\n",
       "Classic & Cult TV, TV Action & Adventure, TV Dramas                                  2\n",
       "Romantic TV Shows, TV Dramas, TV Sci-Fi & Fantasy                                    2\n",
       "Action & Adventure, Dramas, Romantic Movies                                          2\n",
       "Crime TV Shows, Spanish-Language TV Shows, TV Dramas                                 2\n",
       "TV Action & Adventure, TV Mysteries, TV Sci-Fi & Fantasy                             2\n",
       "British TV Shows, Reality TV, Romantic TV Shows                                      2\n",
       "Dramas, LGBTQ Movies, Romantic Movies                                                2\n",
       "Reality TV, Science & Nature TV                                                      2\n",
       "Classic Movies, Independent Movies, Thrillers                                        1\n",
       "Sci-Fi & Fantasy                                                                     1\n",
       "Dramas, Horror Movies, Music & Musicals                                              1\n",
       "Classic Movies, Thrillers                                                            1\n",
       "Crime TV Shows, TV Dramas, TV Horror                                                 1\n",
       "British TV Shows, Docuseries, Reality TV                                             1\n",
       "Classic Movies, Comedies, Romantic Movies                                            1\n",
       "Children & Family Movies, Faith & Spirituality                                       1\n",
       "Action & Adventure, Documentaries, Sports Movies                                     1\n",
       "Sports Movies                                                                        1\n",
       "Classic & Cult TV, Crime TV Shows, TV Dramas                                         1\n",
       "British TV Shows, TV Horror, TV Thrillers                                            1\n",
       "Classic Movies, Comedies, Sports Movies                                              1\n",
       "Action & Adventure, Children & Family Movies, Independent Movies                     1\n",
       "British TV Shows, TV Comedies, TV Dramas                                             1\n",
       "Comedies, Dramas, Sports Movies                                                      1\n",
       "Action & Adventure, Romantic Movies, Sci-Fi & Fantasy                                1\n",
       "Action & Adventure, Comedies, Horror Movies                                          1\n",
       "Comedies, Cult Movies, LGBTQ Movies                                                  1\n",
       "Dramas, Faith & Spirituality, Sports Movies                                          1\n",
       "Children & Family Movies, Comedies, Cult Movies                                      1\n",
       "Classic & Cult TV, TV Sci-Fi & Fantasy                                               1\n",
       "TV Action & Adventure, TV Comedies                                                   1\n",
       "Classic & Cult TV, Kids' TV, TV Comedies                                             1\n",
       "Children & Family Movies, Classic Movies, Dramas                                     1\n",
       "Crime TV Shows, Romantic TV Shows, Spanish-Language TV Shows                         1\n",
       "Action & Adventure, Classic Movies, Sci-Fi & Fantasy                                 1\n",
       "Cult Movies, Horror Movies, Thrillers                                                1\n",
       "Independent Movies                                                                   1\n",
       "Classic & Cult TV, TV Horror, TV Mysteries                                           1\n",
       "Dramas, Horror Movies, Sci-Fi & Fantasy                                              1\n",
       "British TV Shows, TV Dramas, TV Sci-Fi & Fantasy                                     1\n",
       "Comedies, Cult Movies, Sports Movies                                                 1\n",
       "Children & Family Movies, Comedies, Faith & Spirituality                             1\n",
       "Romantic TV Shows, Spanish-Language TV Shows, TV Dramas                              1\n",
       "Comedies, Independent Movies, Music & Musicals                                       1\n",
       "Action & Adventure, Faith & Spirituality, Sci-Fi & Fantasy                           1\n",
       "Classic & Cult TV, Kids' TV, Spanish-Language TV Shows                               1\n",
       "International TV Shows, Reality TV, TV Action & Adventure                            1\n",
       "International Movies, Sports Movies                                                  1\n",
       "Docuseries, Science & Nature TV, TV Dramas                                           1\n",
       "Anime Features                                                                       1\n",
       "Action & Adventure, Horror Movies, Independent Movies                                1\n",
       "Documentaries, Faith & Spirituality, Music & Musicals                                1\n",
       "Action & Adventure, Classic Movies, International Movies                             1\n",
       "Cult Movies, Independent Movies, Thrillers                                           1\n",
       "Crime TV Shows, TV Comedies                                                          1\n",
       "Classic Movies, Cult Movies, Documentaries                                           1\n",
       "Action & Adventure, Cult Movies, Dramas                                              1\n",
       "Classic Movies, Dramas, LGBTQ Movies                                                 1\n",
       "Children & Family Movies, Classic Movies                                             1\n",
       "Action & Adventure, Cult Movies                                                      1\n",
       "Anime Series, Crime TV Shows, TV Thrillers                                           1\n",
       "Action & Adventure, Comedies, Music & Musicals                                       1\n",
       "Classic Movies, Horror Movies, Thrillers                                             1\n",
       "Comedies, Cult Movies, Independent Movies                                            1\n",
       "Comedies, Documentaries, International Movies                                        1\n",
       "TV Sci-Fi & Fantasy, TV Thrillers                                                    1\n",
       "Action & Adventure, Children & Family Movies, Cult Movies                            1\n",
       "Anime Series, Kids' TV, TV Action & Adventure                                        1\n",
       "Comedies, LGBTQ Movies, Thrillers                                                    1\n",
       "Romantic TV Shows, Teen TV Shows                                                     1\n",
       "Romantic TV Shows, TV Action & Adventure, TV Dramas                                  1\n",
       "Anime Series, International TV Shows, Spanish-Language TV Shows                      1\n",
       "Comedies, Romantic Movies, Sports Movies                                             1\n",
       "TV Action & Adventure, TV Comedies, TV Dramas                                        1\n",
       "Comedies, Cult Movies, Sci-Fi & Fantasy                                              1\n",
       "Comedies, LGBTQ Movies, Music & Musicals                                             1\n",
       "Kids' TV, Reality TV, TV Dramas                                                      1\n",
       "Kids' TV, TV Comedies, Teen TV Shows                                                 1\n",
       "Music & Musicals, Romantic Movies                                                    1\n",
       "International TV Shows, Romantic TV Shows, TV Mysteries                              1\n",
       "Cult Movies, Dramas, International Movies                                            1\n",
       "Crime TV Shows, International TV Shows, TV Mysteries                                 1\n",
       "Action & Adventure, Sci-Fi & Fantasy, Sports Movies                                  1\n",
       "TV Dramas, TV Sci-Fi & Fantasy, TV Thrillers                                         1\n",
       "Docuseries, TV Sci-Fi & Fantasy                                                      1\n",
       "Children & Family Movies, Faith & Spirituality, Music & Musicals                     1\n",
       "Classic Movies, Music & Musicals                                                     1\n",
       "Action & Adventure, Anime Features                                                   1\n",
       "Cult Movies, Dramas, Music & Musicals                                                1\n",
       "Crime TV Shows, TV Horror, TV Mysteries                                              1\n",
       "International TV Shows, Kids' TV, TV Mysteries                                       1\n",
       "Anime Series, Stand-Up Comedy & Talk Shows                                           1\n",
       "Action & Adventure, Comedies, Sports Movies                                          1\n",
       "Crime TV Shows, TV Action & Adventure, TV Sci-Fi & Fantasy                           1\n",
       "Reality TV, TV Action & Adventure, TV Mysteries                                      1\n",
       "TV Action & Adventure, TV Dramas, Teen TV Shows                                      1\n",
       "Crime TV Shows, International TV Shows, TV Thrillers                                 1\n",
       "Anime Series, Crime TV Shows, TV Horror                                              1\n",
       "Anime Features, Documentaries                                                        1\n",
       "Action & Adventure, Sci-Fi & Fantasy, Thrillers                                      1\n",
       "Reality TV, TV Horror, TV Thrillers                                                  1\n",
       "TV Action & Adventure, TV Horror, TV Sci-Fi & Fantasy                                1\n",
       "International TV Shows, TV Horror, TV Sci-Fi & Fantasy                               1\n",
       "Documentaries, Dramas                                                                1\n",
       "Horror Movies, Romantic Movies, Sci-Fi & Fantasy                                     1\n",
       "Action & Adventure, Anime Features, Horror Movies                                    1\n",
       "British TV Shows, Classic & Cult TV, Kids' TV                                        1\n",
       "LGBTQ Movies, Thrillers                                                              1\n",
       "Stand-Up Comedy & Talk Shows, TV Mysteries, TV Sci-Fi & Fantasy                      1\n",
       "Horror Movies, International Movies, Sci-Fi & Fantasy                                1\n",
       "International Movies, Romantic Movies, Sci-Fi & Fantasy                              1\n",
       "TV Comedies, TV Horror, TV Thrillers                                                 1\n",
       "TV Action & Adventure                                                                1\n",
       "International TV Shows, Spanish-Language TV Shows, TV Horror                         1\n",
       "TV Comedies, TV Sci-Fi & Fantasy, Teen TV Shows                                      1\n",
       "Romantic TV Shows, Spanish-Language TV Shows, TV Comedies                            1\n",
       "Crime TV Shows, International TV Shows, TV Sci-Fi & Fantasy                          1\n",
       "Crime TV Shows, Kids' TV                                                             1\n",
       "TV Comedies, TV Mysteries                                                            1\n",
       "Classic & Cult TV, TV Dramas, TV Sci-Fi & Fantasy                                    1\n",
       "British TV Shows, Docuseries, TV Comedies                                            1\n",
       "Reality TV, Science & Nature TV, TV Action & Adventure                               1\n",
       "TV Comedies, TV Dramas, TV Mysteries                                                 1\n",
       "Crime TV Shows, TV Comedies, Teen TV Shows                                           1\n",
       "Docuseries, Kids' TV, Science & Nature TV                                            1\n",
       "Reality TV, Spanish-Language TV Shows                                                1\n",
       "Dramas, Faith & Spirituality, Independent Movies                                     1\n",
       "British TV Shows, International TV Shows, Stand-Up Comedy & Talk Shows               1\n",
       "Kids' TV, Reality TV, Science & Nature TV                                            1\n",
       "TV Horror, TV Mysteries, Teen TV Shows                                               1\n",
       "Comedies, Music & Musicals, Sports Movies                                            1\n",
       "Horror Movies, LGBTQ Movies, Music & Musicals                                        1\n",
       "International TV Shows, TV Action & Adventure, TV Horror                             1\n",
       "Classic & Cult TV, Kids' TV, TV Action & Adventure                                   1\n",
       "International TV Shows, Korean TV Shows, TV Horror                                   1\n",
       "Docuseries, Science & Nature TV, TV Comedies                                         1\n",
       "TV Dramas, TV Sci-Fi & Fantasy, Teen TV Shows                                        1\n",
       "Anime Features, International Movies, Sci-Fi & Fantasy                               1\n",
       "Dramas, Horror Movies, Thrillers                                                     1\n",
       "TV Comedies, TV Dramas, TV Sci-Fi & Fantasy                                          1\n",
       "Docuseries, Reality TV, Teen TV Shows                                                1\n",
       "Crime TV Shows, International TV Shows, Reality TV                                   1\n",
       "Anime Features, Romantic Movies                                                      1\n",
       "Anime Features, Music & Musicals                                                     1\n",
       "British TV Shows, Kids' TV, TV Thrillers                                             1\n",
       "Kids' TV, TV Action & Adventure, TV Dramas                                           1\n",
       "TV Comedies, TV Dramas, TV Horror                                                    1\n",
       "Children & Family Movies, Comedies, LGBTQ Movies                                     1\n",
       "Kids' TV, Spanish-Language TV Shows, Teen TV Shows                                   1\n",
       "Cult Movies, Dramas, Thrillers                                                       1\n",
       "Name: listed_in, dtype: int64"
      ]
     },
     "execution_count": 418,
     "metadata": {},
     "output_type": "execute_result"
    }
   ],
   "source": [
    "df.listed_in.value_counts()"
   ]
  },
  {
   "cell_type": "code",
   "execution_count": 413,
   "id": "feb9ffdc",
   "metadata": {
    "ExecuteTime": {
     "end_time": "2023-08-18T14:53:58.656840Z",
     "start_time": "2023-08-18T14:53:58.244614Z"
    }
   },
   "outputs": [],
   "source": [
    "df.to_csv(\"netflix_movie_tvshow.csv\")"
   ]
  }
 ],
 "metadata": {
  "hide_input": false,
  "kernelspec": {
   "display_name": "Python 3 (ipykernel)",
   "language": "python",
   "name": "python3"
  },
  "language_info": {
   "codemirror_mode": {
    "name": "ipython",
    "version": 3
   },
   "file_extension": ".py",
   "mimetype": "text/x-python",
   "name": "python",
   "nbconvert_exporter": "python",
   "pygments_lexer": "ipython3",
   "version": "3.10.6"
  }
 },
 "nbformat": 4,
 "nbformat_minor": 5
}
